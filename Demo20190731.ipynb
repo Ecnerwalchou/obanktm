{
 "cells": [
  {
   "cell_type": "markdown",
   "metadata": {},
   "source": [
    "## 讀取資料"
   ]
  },
  {
   "cell_type": "code",
   "execution_count": 1,
   "metadata": {},
   "outputs": [],
   "source": [
    "import pandas"
   ]
  },
  {
   "cell_type": "code",
   "execution_count": 4,
   "metadata": {},
   "outputs": [],
   "source": [
    "news = pandas.read_excel('data/20150628news.xlsx', index_col=0)"
   ]
  },
  {
   "cell_type": "code",
   "execution_count": 5,
   "metadata": {},
   "outputs": [
    {
     "data": {
      "text/html": [
       "<div>\n",
       "<style scoped>\n",
       "    .dataframe tbody tr th:only-of-type {\n",
       "        vertical-align: middle;\n",
       "    }\n",
       "\n",
       "    .dataframe tbody tr th {\n",
       "        vertical-align: top;\n",
       "    }\n",
       "\n",
       "    .dataframe thead th {\n",
       "        text-align: right;\n",
       "    }\n",
       "</style>\n",
       "<table border=\"1\" class=\"dataframe\">\n",
       "  <thead>\n",
       "    <tr style=\"text-align: right;\">\n",
       "      <th></th>\n",
       "      <th>category</th>\n",
       "      <th>description</th>\n",
       "      <th>pubdate</th>\n",
       "      <th>title</th>\n",
       "    </tr>\n",
       "  </thead>\n",
       "  <tbody>\n",
       "    <tr>\n",
       "      <th>0</th>\n",
       "      <td>社會/生活</td>\n",
       "      <td>新北市八仙水上樂園昨晚發生粉塵爆炸，新北市衛生局統計到目前為止，由救護車送醫再加上自行送醫的...</td>\n",
       "      <td>Sun, 28 Jun 2015 07:40:00 +0800</td>\n",
       "      <td>八仙塵爆  五相關人依公共危險重傷害法辦</td>\n",
       "    </tr>\n",
       "    <tr>\n",
       "      <th>1</th>\n",
       "      <td>社會/生活</td>\n",
       "      <td>新北市八仙樂園昨天晚上(6/27)舉辦活動，過程中噴灑大量玉米粉而引發粉塵爆炸，根據最新統計...</td>\n",
       "      <td>Sun, 28 Jun 2015 07:40:00 +0800</td>\n",
       "      <td>八仙樂園意外 病患持續增加中</td>\n",
       "    </tr>\n",
       "    <tr>\n",
       "      <th>2</th>\n",
       "      <td>財經/要聞</td>\n",
       "      <td>希臘債務違約限期逼近，資金持續外流。路透社引述三間銀行的消息指出，希臘國內有3分之1的自動櫃...</td>\n",
       "      <td>Sun, 28 Jun 2015 07:40:00 +0800</td>\n",
       "      <td>希臘國內三分一自動櫃員機現金短缺</td>\n",
       "    </tr>\n",
       "    <tr>\n",
       "      <th>3</th>\n",
       "      <td>社會/生活</td>\n",
       "      <td>台鐵「新基隆車站」第一階段工程本月底完成，台鐵表示，明天（29號）啟用後，由於南站周邊道路尚...</td>\n",
       "      <td>Sun, 28 Jun 2015 07:40:00 +0800</td>\n",
       "      <td>台鐵新基隆車站29日正式啟用</td>\n",
       "    </tr>\n",
       "    <tr>\n",
       "      <th>4</th>\n",
       "      <td>財經/要聞</td>\n",
       "      <td>《中國時報》\\n●樂園變煉獄 派對驚爆 逾300人遭火紋身\\n八仙樂園昨晚舉辦「COLOR ...</td>\n",
       "      <td>Sun, 28 Jun 2015 07:38:17 +0800</td>\n",
       "      <td>6月28日各報頭版要聞</td>\n",
       "    </tr>\n",
       "  </tbody>\n",
       "</table>\n",
       "</div>"
      ],
      "text/plain": [
       "  category                                        description  \\\n",
       "0    社會/生活  新北市八仙水上樂園昨晚發生粉塵爆炸，新北市衛生局統計到目前為止，由救護車送醫再加上自行送醫的...   \n",
       "1    社會/生活  新北市八仙樂園昨天晚上(6/27)舉辦活動，過程中噴灑大量玉米粉而引發粉塵爆炸，根據最新統計...   \n",
       "2    財經/要聞  希臘債務違約限期逼近，資金持續外流。路透社引述三間銀行的消息指出，希臘國內有3分之1的自動櫃...   \n",
       "3    社會/生活  台鐵「新基隆車站」第一階段工程本月底完成，台鐵表示，明天（29號）啟用後，由於南站周邊道路尚...   \n",
       "4    財經/要聞  《中國時報》\\n●樂園變煉獄 派對驚爆 逾300人遭火紋身\\n八仙樂園昨晚舉辦「COLOR ...   \n",
       "\n",
       "                           pubdate                 title  \n",
       "0  Sun, 28 Jun 2015 07:40:00 +0800  八仙塵爆  五相關人依公共危險重傷害法辦  \n",
       "1  Sun, 28 Jun 2015 07:40:00 +0800        八仙樂園意外 病患持續增加中  \n",
       "2  Sun, 28 Jun 2015 07:40:00 +0800      希臘國內三分一自動櫃員機現金短缺  \n",
       "3  Sun, 28 Jun 2015 07:40:00 +0800        台鐵新基隆車站29日正式啟用  \n",
       "4  Sun, 28 Jun 2015 07:38:17 +0800           6月28日各報頭版要聞  "
      ]
     },
     "execution_count": 5,
     "metadata": {},
     "output_type": "execute_result"
    }
   ],
   "source": [
    "news.head()"
   ]
  },
  {
   "cell_type": "code",
   "execution_count": 6,
   "metadata": {},
   "outputs": [
    {
     "data": {
      "text/plain": [
       "147"
      ]
     },
     "execution_count": 6,
     "metadata": {},
     "output_type": "execute_result"
    }
   ],
   "source": [
    "len(news)"
   ]
  },
  {
   "cell_type": "markdown",
   "metadata": {},
   "source": [
    "## 建立詞頻矩陣"
   ]
  },
  {
   "cell_type": "code",
   "execution_count": 12,
   "metadata": {},
   "outputs": [],
   "source": [
    "import jieba\n",
    "corpus = []\n",
    "titles = []\n",
    "for rec in news.iterrows():\n",
    "    description = rec[1]['description']\n",
    "    title = rec[1]['title']\n",
    "    corpus.append(' '.join(jieba.cut(description)))\n",
    "    titles.append(title)\n",
    "    #print(corpus)\n",
    "    #break"
   ]
  },
  {
   "cell_type": "code",
   "execution_count": 13,
   "metadata": {},
   "outputs": [],
   "source": [
    "from sklearn.feature_extraction.text import CountVectorizer\n",
    "vectorizer = CountVectorizer()\n",
    "X = vectorizer.fit_transform(corpus)"
   ]
  },
  {
   "cell_type": "code",
   "execution_count": 14,
   "metadata": {},
   "outputs": [
    {
     "data": {
      "text/plain": [
       "<147x11138 sparse matrix of type '<class 'numpy.int64'>'\n",
       "\twith 22639 stored elements in Compressed Sparse Row format>"
      ]
     },
     "execution_count": 14,
     "metadata": {},
     "output_type": "execute_result"
    }
   ],
   "source": [
    "X"
   ]
  },
  {
   "cell_type": "code",
   "execution_count": 17,
   "metadata": {},
   "outputs": [],
   "source": [
    "from sklearn.metrics.pairwise import cosine_distances\n",
    "n_cosine_similarities = cosine_distances(X)"
   ]
  },
  {
   "cell_type": "code",
   "execution_count": 18,
   "metadata": {},
   "outputs": [
    {
     "data": {
      "text/plain": [
       "(147, 147)"
      ]
     },
     "execution_count": 18,
     "metadata": {},
     "output_type": "execute_result"
    }
   ],
   "source": [
    "n_cosine_similarities.shape"
   ]
  },
  {
   "cell_type": "code",
   "execution_count": 73,
   "metadata": {},
   "outputs": [
    {
     "data": {
      "text/plain": [
       "array([0, 0, 3, 1, 0, 1, 0, 1, 1, 1, 1, 0, 3, 1, 2, 1, 0, 1, 1, 1, 2, 0,\n",
       "       1, 1, 3, 0, 1, 1, 1, 1, 1, 1, 1, 1, 1, 1, 1, 3, 2, 3, 1, 0, 3, 1,\n",
       "       1, 1, 1, 1, 1, 1, 1, 1, 1, 1, 1, 1, 1, 1, 1, 1, 1, 1, 1, 1, 1, 1,\n",
       "       1, 1, 1, 1, 1, 1, 1, 1, 1, 1, 1, 1, 1, 1, 1, 1, 3, 1, 3, 1, 1, 0,\n",
       "       0, 0, 0, 0, 3, 0, 1, 0, 0, 0, 0, 1, 0, 0, 0, 0, 0, 0, 0, 1, 1, 1,\n",
       "       2, 2, 0, 0, 3, 1, 2, 0, 0, 2, 0, 2, 1, 0, 2, 2, 2, 0, 2, 1, 1, 1,\n",
       "       1, 1, 1, 1, 1, 2, 1, 1, 1, 1, 2, 0, 0, 2, 2], dtype=int32)"
      ]
     },
     "execution_count": 73,
     "metadata": {},
     "output_type": "execute_result"
    }
   ],
   "source": [
    "from sklearn import cluster\n",
    "km = cluster.KMeans(n_clusters = 4, init = 'k-means++', random_state = 42)\n",
    "c = km.fit_predict(n_cosine_similarities)\n",
    "c"
   ]
  },
  {
   "cell_type": "code",
   "execution_count": 74,
   "metadata": {},
   "outputs": [],
   "source": [
    "import numpy \n",
    "np_titles = numpy.array(titles)\n",
    "#np_titles"
   ]
  },
  {
   "cell_type": "code",
   "execution_count": 75,
   "metadata": {},
   "outputs": [
    {
     "name": "stdout",
     "output_type": "stream",
     "text": [
      "希臘國內三分一自動櫃員機現金短缺\n",
      "歐元區財長拒希臘延長救助計劃\n",
      "呂紹煒專欄：違約與退出 希臘與歐洲才能重生(上)\n",
      "希臘違約在即  歐盟全力穩定經濟\n",
      "希臘脫歐變可能 歐洲衝擊大\n",
      "希債協議  法國願盡最後斡旋努力\n",
      "希臘1／3提款機錢被提光\n",
      "確保銀行穩定 希臘續與ECB緊密合作\n",
      "希臘態度強硬 歐元區耐心漸失\n",
      "希臘盼展延債務 歐元區拒絕\n"
     ]
    }
   ],
   "source": [
    "for ele in np_titles[c == 3]:\n",
    "    print(ele)"
   ]
  },
  {
   "cell_type": "markdown",
   "metadata": {},
   "source": [
    "## 降低維度"
   ]
  },
  {
   "cell_type": "code",
   "execution_count": 81,
   "metadata": {},
   "outputs": [],
   "source": [
    "?PCA"
   ]
  },
  {
   "cell_type": "code",
   "execution_count": 76,
   "metadata": {},
   "outputs": [],
   "source": [
    "from sklearn.decomposition import PCA\n",
    "clf = PCA(n_components= 2)\n",
    "new_dim = clf.fit_transform(n_cosine_similarities)"
   ]
  },
  {
   "cell_type": "code",
   "execution_count": 80,
   "metadata": {},
   "outputs": [
    {
     "data": {
      "text/plain": [
       "(147, 2)"
      ]
     },
     "execution_count": 80,
     "metadata": {},
     "output_type": "execute_result"
    }
   ],
   "source": [
    "new_dim.shape"
   ]
  },
  {
   "cell_type": "code",
   "execution_count": 77,
   "metadata": {},
   "outputs": [
    {
     "data": {
      "text/plain": [
       "<matplotlib.collections.PathCollection at 0x12670ee80>"
      ]
     },
     "execution_count": 77,
     "metadata": {},
     "output_type": "execute_result"
    },
    {
     "data": {
      "image/png": "[encoded data removed]",
      "text/plain": [
       "<Figure size 432x288 with 1 Axes>"
      ]
     },
     "metadata": {},
     "output_type": "display_data"
    }
   ],
   "source": [
    "from matplotlib import pyplot as plt\n",
    "plt.scatter(new_dim[c == 0, 0], new_dim[c == 0, 1], s = 100, c = 'green', label = 'Cluster 1')\n",
    "plt.scatter(new_dim[c == 1, 0], new_dim[c == 1, 1], s = 100, c = 'blue', label = 'Cluster 2')\n",
    "plt.scatter(new_dim[c == 2, 0], new_dim[c == 2, 1], s = 100, c = 'red', label = 'Cluster 3')\n",
    "plt.scatter(new_dim[c == 3, 0], new_dim[c == 3, 1], s = 100, c = 'orange', label = 'Cluster 3')\n"
   ]
  },
  {
   "cell_type": "code",
   "execution_count": 51,
   "metadata": {},
   "outputs": [
    {
     "data": {
      "text/plain": [
       "array([39, 29, 15,  8, 21, 39])"
      ]
     },
     "execution_count": 51,
     "metadata": {},
     "output_type": "execute_result"
    }
   ],
   "source": [
    "import numpy\n",
    "numpy.random.seed(42)\n",
    "numpy.random.randint(1, 42, 6)"
   ]
  },
  {
   "cell_type": "code",
   "execution_count": 79,
   "metadata": {},
   "outputs": [
    {
     "data": {
      "text/plain": [
       "array([60, 50])"
      ]
     },
     "execution_count": 79,
     "metadata": {},
     "output_type": "execute_result"
    }
   ],
   "source": [
    "a = numpy.array([70,80,90,60,50,80])\n",
    "b = numpy.array([1 , 1, 1, 2, 2, 1])\n",
    "a[b == 2]"
   ]
  },
  {
   "cell_type": "markdown",
   "metadata": {},
   "source": [
    "## Silhouette Score"
   ]
  },
  {
   "cell_type": "code",
   "execution_count": 82,
   "metadata": {},
   "outputs": [
    {
     "data": {
      "text/plain": [
       "0.27524158430186935"
      ]
     },
     "execution_count": 82,
     "metadata": {},
     "output_type": "execute_result"
    }
   ],
   "source": [
    "from sklearn.metrics import silhouette_score\n",
    "km = cluster.KMeans(n_clusters = 4, init='k-means++', random_state=42)\n",
    "c= km.fit_predict(n_cosine_similarities)\n",
    "silhouette_score(n_cosine_similarities, labels = c)"
   ]
  },
  {
   "cell_type": "code",
   "execution_count": 83,
   "metadata": {},
   "outputs": [],
   "source": [
    "from sklearn.metrics import silhouette_score\n",
    "sil_ary =  [] \n",
    "for k in range(2,21):\n",
    "    km = cluster.KMeans(n_clusters = k, init='k-means++', random_state=42)\n",
    "    c= km.fit_predict(n_cosine_similarities)\n",
    "    s = silhouette_score(n_cosine_similarities, labels = c)\n",
    "    sil_ary.append(s)"
   ]
  },
  {
   "cell_type": "code",
   "execution_count": 84,
   "metadata": {},
   "outputs": [
    {
     "data": {
      "text/plain": [
       "[<matplotlib.lines.Line2D at 0x126a2bba8>]"
      ]
     },
     "execution_count": 84,
     "metadata": {},
     "output_type": "execute_result"
    },
    {
     "data": {
      "image/png": "[encoded data removed]",
      "text/plain": [
       "<Figure size 432x288 with 1 Axes>"
      ]
     },
     "metadata": {},
     "output_type": "display_data"
    }
   ],
   "source": [
    "from matplotlib import pyplot as plt\n",
    "plt.plot(range(2,21), sil_ary)"
   ]
  },
  {
   "cell_type": "markdown",
   "metadata": {},
   "source": [
    "## 分析 2017/12/14 的新聞資料"
   ]
  },
  {
   "cell_type": "code",
   "execution_count": 88,
   "metadata": {},
   "outputs": [
    {
     "data": {
      "text/html": [
       "<div>\n",
       "<style scoped>\n",
       "    .dataframe tbody tr th:only-of-type {\n",
       "        vertical-align: middle;\n",
       "    }\n",
       "\n",
       "    .dataframe tbody tr th {\n",
       "        vertical-align: top;\n",
       "    }\n",
       "\n",
       "    .dataframe thead th {\n",
       "        text-align: right;\n",
       "    }\n",
       "</style>\n",
       "<table border=\"1\" class=\"dataframe\">\n",
       "  <thead>\n",
       "    <tr style=\"text-align: right;\">\n",
       "      <th></th>\n",
       "      <th>category</th>\n",
       "      <th>content</th>\n",
       "      <th>link</th>\n",
       "      <th>title</th>\n",
       "    </tr>\n",
       "  </thead>\n",
       "  <tbody>\n",
       "    <tr>\n",
       "      <th>0</th>\n",
       "      <td>政治</td>\n",
       "      <td>新增：立委說法民進黨立法院黨團預計在明天的院會中，讓改制農田水利會的《農田水利會組織通則》修...</td>\n",
       "      <td>https://tw.news.appledaily.com/politics/realti...</td>\n",
       "      <td>【更新】水利會改官派明闖關　綠委24小時前顧議場大門防藍突襲</td>\n",
       "    </tr>\n",
       "    <tr>\n",
       "      <th>1</th>\n",
       "      <td>論壇</td>\n",
       "      <td>邱俊棠／台中市民、見習醫師；曾任台灣醫學生聯合會對外副會長對於公民參與公眾事務而能得到單位首...</td>\n",
       "      <td>https://tw.news.appledaily.com/forum/realtime/...</td>\n",
       "      <td>請中市府為所當為 加速中火燃煤限制</td>\n",
       "    </tr>\n",
       "    <tr>\n",
       "      <th>2</th>\n",
       "      <td>社會</td>\n",
       "      <td>被控來台涉發展情報組織的中國學生周泓旭，因接觸我方外交部官員而露餡落網，今年9月被台北地院一...</td>\n",
       "      <td>https://tw.news.appledaily.com/local/realtime/...</td>\n",
       "      <td>陸生共諜嗆台司法　「不敢公開審理我」</td>\n",
       "    </tr>\n",
       "  </tbody>\n",
       "</table>\n",
       "</div>"
      ],
      "text/plain": [
       "  category                                            content  \\\n",
       "0       政治  新增：立委說法民進黨立法院黨團預計在明天的院會中，讓改制農田水利會的《農田水利會組織通則》修...   \n",
       "1       論壇  邱俊棠／台中市民、見習醫師；曾任台灣醫學生聯合會對外副會長對於公民參與公眾事務而能得到單位首...   \n",
       "2       社會  被控來台涉發展情報組織的中國學生周泓旭，因接觸我方外交部官員而露餡落網，今年9月被台北地院一...   \n",
       "\n",
       "                                                link  \\\n",
       "0  https://tw.news.appledaily.com/politics/realti...   \n",
       "1  https://tw.news.appledaily.com/forum/realtime/...   \n",
       "2  https://tw.news.appledaily.com/local/realtime/...   \n",
       "\n",
       "                            title  \n",
       "0  【更新】水利會改官派明闖關　綠委24小時前顧議場大門防藍突襲  \n",
       "1               請中市府為所當為 加速中火燃煤限制  \n",
       "2              陸生共諜嗆台司法　「不敢公開審理我」  "
      ]
     },
     "execution_count": 88,
     "metadata": {},
     "output_type": "execute_result"
    }
   ],
   "source": [
    "import pandas\n",
    "news = pandas.read_excel('data/20171214news.xlsx', index_col=0)\n",
    "news.head(3)"
   ]
  },
  {
   "cell_type": "code",
   "execution_count": 87,
   "metadata": {},
   "outputs": [
    {
     "data": {
      "text/plain": [
       "899"
      ]
     },
     "execution_count": 87,
     "metadata": {},
     "output_type": "execute_result"
    }
   ],
   "source": [
    "len(news)"
   ]
  },
  {
   "cell_type": "code",
   "execution_count": 90,
   "metadata": {},
   "outputs": [],
   "source": [
    "import jieba\n",
    "corpus = []\n",
    "titles = []\n",
    "for rec in news.iterrows():\n",
    "    content = rec[1]['content']\n",
    "    title = rec[1]['title']\n",
    "    corpus.append(' '.join(jieba.cut(content)))\n",
    "    titles.append(title)"
   ]
  },
  {
   "cell_type": "code",
   "execution_count": 91,
   "metadata": {},
   "outputs": [],
   "source": [
    "from sklearn.feature_extraction.text import CountVectorizer\n",
    "vectorizer = CountVectorizer()\n",
    "X = vectorizer.fit_transform(corpus)"
   ]
  },
  {
   "cell_type": "code",
   "execution_count": 92,
   "metadata": {},
   "outputs": [
    {
     "data": {
      "text/plain": [
       "<899x28936 sparse matrix of type '<class 'numpy.int64'>'\n",
       "\twith 122251 stored elements in Compressed Sparse Row format>"
      ]
     },
     "execution_count": 92,
     "metadata": {},
     "output_type": "execute_result"
    }
   ],
   "source": [
    "X"
   ]
  },
  {
   "cell_type": "code",
   "execution_count": 93,
   "metadata": {},
   "outputs": [],
   "source": [
    "from sklearn.metrics.pairwise import cosine_distances\n",
    "cs = cosine_distances(X)"
   ]
  },
  {
   "cell_type": "code",
   "execution_count": 98,
   "metadata": {},
   "outputs": [],
   "source": [
    "from sklearn.cluster import KMeans\n",
    "km = KMeans(n_clusters = 10, init = 'k-means++', random_state = 42)\n",
    "c = km.fit_predict(cs)"
   ]
  },
  {
   "cell_type": "code",
   "execution_count": 100,
   "metadata": {},
   "outputs": [],
   "source": [
    "np_titles = numpy.array(titles)"
   ]
  },
  {
   "cell_type": "code",
   "execution_count": 111,
   "metadata": {},
   "outputs": [
    {
     "name": "stdout",
     "output_type": "stream",
     "text": [
      "被爆賤賣中視讓利4.8億　馬英九回應了\n",
      "徐永明：看來蔡正元不願再掩護馬英九\n",
      " 回應北檢聲明　徐巧芯 ：不要事情鬧大了才推給媒體\n",
      "「狗急跳牆亂咬人」溫紳說馬英九該告媒體\n",
      "遭馬英九告洩密　北檢：嚴守偵查不公開\n",
      "「忍無可忍」　馬英九怒告檢察長洩三中案不實秘密\n",
      "李惠仁怒嗆：馬英九，你有什麼資格按鈴？！\n",
      "馬英九反擊！不滿遭影射三中案有罪　馬親自到地檢署告北檢洩密\n",
      "三中案馬英九圖利中時老闆？　北檢：不評論\n",
      "藍營人士：北檢一再人格謀殺馬英九　「營造有罪氛圍」\n",
      "三中案交易傳有馬英九讓利關鍵錄音　馬辦諷：宛如小說\n",
      "三中案祕錄光碟！恐扳倒馬英九　當年他錄的\n",
      "三中案500萬禮盒照　馬英九一句話成關鍵\n"
     ]
    }
   ],
   "source": [
    "for ele in np_titles[c == 8]:\n",
    "    print(ele)"
   ]
  },
  {
   "cell_type": "code",
   "execution_count": 112,
   "metadata": {},
   "outputs": [],
   "source": [
    "from sklearn.metrics import silhouette_score\n",
    "sil_ary =  [] \n",
    "for k in range(2,31):\n",
    "    km = cluster.KMeans(n_clusters = k, init='k-means++', random_state=42)\n",
    "    c= km.fit_predict(cs)\n",
    "    s = silhouette_score(cs, labels = c)\n",
    "    sil_ary.append(s)"
   ]
  },
  {
   "cell_type": "code",
   "execution_count": 113,
   "metadata": {},
   "outputs": [
    {
     "data": {
      "text/plain": [
       "[<matplotlib.lines.Line2D at 0x126817438>]"
      ]
     },
     "execution_count": 113,
     "metadata": {},
     "output_type": "execute_result"
    },
    {
     "data": {
      "image/png": "[encoded data removed]",
      "text/plain": [
       "<Figure size 432x288 with 1 Axes>"
      ]
     },
     "metadata": {},
     "output_type": "display_data"
    }
   ],
   "source": [
    "from matplotlib import pyplot as plt\n",
    "plt.plot(range(2,31), sil_ary)"
   ]
  },
  {
   "cell_type": "markdown",
   "metadata": {},
   "source": [
    "## 圖論"
   ]
  },
  {
   "cell_type": "code",
   "execution_count": 114,
   "metadata": {},
   "outputs": [],
   "source": [
    "import networkx as nx\n",
    "G = nx.Graph()"
   ]
  },
  {
   "cell_type": "code",
   "execution_count": 115,
   "metadata": {},
   "outputs": [],
   "source": [
    "G.add_node('a')\n",
    "G.add_node('b')\n",
    "G.add_node('c')\n",
    "G.add_node('d')"
   ]
  },
  {
   "cell_type": "code",
   "execution_count": 116,
   "metadata": {},
   "outputs": [],
   "source": [
    "G.add_edge('a', 'b')\n",
    "G.add_edge('b', 'c')\n",
    "G.add_edge('a', 'c')\n",
    "G.add_edge('c', 'd')"
   ]
  },
  {
   "cell_type": "code",
   "execution_count": 118,
   "metadata": {},
   "outputs": [
    {
     "name": "stderr",
     "output_type": "stream",
     "text": [
      "/Users/davidchiu/.pyenv/versions/3.6.2/lib/python3.6/site-packages/networkx/drawing/nx_pylab.py:126: MatplotlibDeprecationWarning: pyplot.hold is deprecated.\n",
      "    Future behavior will be consistent with the long-time default:\n",
      "    plot commands add elements without first clearing the\n",
      "    Axes and/or Figure.\n",
      "  b = plt.ishold()\n",
      "/Users/davidchiu/.pyenv/versions/3.6.2/lib/python3.6/site-packages/networkx/drawing/nx_pylab.py:511: MatplotlibDeprecationWarning: The is_string_like function was deprecated in version 2.1.\n",
      "  if not cb.is_string_like(edge_color) \\\n",
      "/Users/davidchiu/.pyenv/versions/3.6.2/lib/python3.6/site-packages/networkx/drawing/nx_pylab.py:532: MatplotlibDeprecationWarning: The is_string_like function was deprecated in version 2.1.\n",
      "  if cb.is_string_like(edge_color) or len(edge_color) == 1:\n",
      "/Users/davidchiu/.pyenv/versions/3.6.2/lib/python3.6/site-packages/networkx/drawing/nx_pylab.py:137: MatplotlibDeprecationWarning: pyplot.hold is deprecated.\n",
      "    Future behavior will be consistent with the long-time default:\n",
      "    plot commands add elements without first clearing the\n",
      "    Axes and/or Figure.\n",
      "  plt.hold(b)\n",
      "/Users/davidchiu/.pyenv/versions/3.6.2/lib/python3.6/site-packages/matplotlib/__init__.py:911: MatplotlibDeprecationWarning: axes.hold is deprecated. Please remove it from your matplotlibrc and/or style files.\n",
      "  mplDeprecation)\n",
      "/Users/davidchiu/.pyenv/versions/3.6.2/lib/python3.6/site-packages/matplotlib/rcsetup.py:156: MatplotlibDeprecationWarning: axes.hold is deprecated, will be removed in 3.0\n",
      "  mplDeprecation)\n"
     ]
    },
    {
     "data": {
      "image/png": "[encoded data removed]",
      "text/plain": [
       "<Figure size 432x288 with 1 Axes>"
      ]
     },
     "metadata": {},
     "output_type": "display_data"
    }
   ],
   "source": [
    "nx.draw(G)"
   ]
  },
  {
   "cell_type": "code",
   "execution_count": 120,
   "metadata": {},
   "outputs": [
    {
     "data": {
      "text/plain": [
       "array([[0, 1, 1, 0],\n",
       "       [1, 0, 1, 0],\n",
       "       [1, 1, 0, 1],\n",
       "       [0, 0, 1, 0]], dtype=int64)"
      ]
     },
     "execution_count": 120,
     "metadata": {},
     "output_type": "execute_result"
    }
   ],
   "source": [
    "X = nx.adjacency_matrix(G)\n",
    "X.toarray()"
   ]
  },
  {
   "cell_type": "markdown",
   "metadata": {},
   "source": [
    "## 使用社群偵測法找分群"
   ]
  },
  {
   "cell_type": "code",
   "execution_count": 187,
   "metadata": {},
   "outputs": [
    {
     "data": {
      "text/html": [
       "<div>\n",
       "<style scoped>\n",
       "    .dataframe tbody tr th:only-of-type {\n",
       "        vertical-align: middle;\n",
       "    }\n",
       "\n",
       "    .dataframe tbody tr th {\n",
       "        vertical-align: top;\n",
       "    }\n",
       "\n",
       "    .dataframe thead th {\n",
       "        text-align: right;\n",
       "    }\n",
       "</style>\n",
       "<table border=\"1\" class=\"dataframe\">\n",
       "  <thead>\n",
       "    <tr style=\"text-align: right;\">\n",
       "      <th></th>\n",
       "      <th>category</th>\n",
       "      <th>content</th>\n",
       "      <th>link</th>\n",
       "      <th>title</th>\n",
       "    </tr>\n",
       "  </thead>\n",
       "  <tbody>\n",
       "    <tr>\n",
       "      <th>0</th>\n",
       "      <td>政治</td>\n",
       "      <td>新增：立委說法民進黨立法院黨團預計在明天的院會中，讓改制農田水利會的《農田水利會組織通則》修...</td>\n",
       "      <td>https://tw.news.appledaily.com/politics/realti...</td>\n",
       "      <td>【更新】水利會改官派明闖關　綠委24小時前顧議場大門防藍突襲</td>\n",
       "    </tr>\n",
       "    <tr>\n",
       "      <th>1</th>\n",
       "      <td>論壇</td>\n",
       "      <td>邱俊棠／台中市民、見習醫師；曾任台灣醫學生聯合會對外副會長對於公民參與公眾事務而能得到單位首...</td>\n",
       "      <td>https://tw.news.appledaily.com/forum/realtime/...</td>\n",
       "      <td>請中市府為所當為 加速中火燃煤限制</td>\n",
       "    </tr>\n",
       "    <tr>\n",
       "      <th>2</th>\n",
       "      <td>社會</td>\n",
       "      <td>被控來台涉發展情報組織的中國學生周泓旭，因接觸我方外交部官員而露餡落網，今年9月被台北地院一...</td>\n",
       "      <td>https://tw.news.appledaily.com/local/realtime/...</td>\n",
       "      <td>陸生共諜嗆台司法　「不敢公開審理我」</td>\n",
       "    </tr>\n",
       "  </tbody>\n",
       "</table>\n",
       "</div>"
      ],
      "text/plain": [
       "  category                                            content  \\\n",
       "0       政治  新增：立委說法民進黨立法院黨團預計在明天的院會中，讓改制農田水利會的《農田水利會組織通則》修...   \n",
       "1       論壇  邱俊棠／台中市民、見習醫師；曾任台灣醫學生聯合會對外副會長對於公民參與公眾事務而能得到單位首...   \n",
       "2       社會  被控來台涉發展情報組織的中國學生周泓旭，因接觸我方外交部官員而露餡落網，今年9月被台北地院一...   \n",
       "\n",
       "                                                link  \\\n",
       "0  https://tw.news.appledaily.com/politics/realti...   \n",
       "1  https://tw.news.appledaily.com/forum/realtime/...   \n",
       "2  https://tw.news.appledaily.com/local/realtime/...   \n",
       "\n",
       "                            title  \n",
       "0  【更新】水利會改官派明闖關　綠委24小時前顧議場大門防藍突襲  \n",
       "1               請中市府為所當為 加速中火燃煤限制  \n",
       "2              陸生共諜嗆台司法　「不敢公開審理我」  "
      ]
     },
     "execution_count": 187,
     "metadata": {},
     "output_type": "execute_result"
    }
   ],
   "source": [
    "import pandas\n",
    "news = pandas.read_excel('data/20171214news.xlsx', index_col=0)\n",
    "news.head(3)"
   ]
  },
  {
   "cell_type": "code",
   "execution_count": 188,
   "metadata": {},
   "outputs": [],
   "source": [
    "import jieba\n",
    "corpus = []\n",
    "titles = []\n",
    "for rec in news.iterrows():\n",
    "    content = rec[1]['content']\n",
    "    title = rec[1]['title']\n",
    "    corpus.append(' '.join(jieba.cut(content)))\n",
    "    titles.append(title)"
   ]
  },
  {
   "cell_type": "code",
   "execution_count": 189,
   "metadata": {},
   "outputs": [],
   "source": [
    "from sklearn.feature_extraction.text import CountVectorizer\n",
    "vectorizer = CountVectorizer()\n",
    "X = vectorizer.fit_transform(corpus)"
   ]
  },
  {
   "cell_type": "code",
   "execution_count": 190,
   "metadata": {},
   "outputs": [
    {
     "data": {
      "text/plain": [
       "<899x28936 sparse matrix of type '<class 'numpy.int64'>'\n",
       "\twith 122251 stored elements in Compressed Sparse Row format>"
      ]
     },
     "execution_count": 190,
     "metadata": {},
     "output_type": "execute_result"
    }
   ],
   "source": [
    "X"
   ]
  },
  {
   "cell_type": "code",
   "execution_count": 191,
   "metadata": {},
   "outputs": [],
   "source": [
    "from sklearn.metrics.pairwise import cosine_similarity\n",
    "cs = cosine_similarity(X)"
   ]
  },
  {
   "cell_type": "code",
   "execution_count": 195,
   "metadata": {},
   "outputs": [
    {
     "data": {
      "text/plain": [
       "array([[1, 0, 0, ..., 0, 0, 0],\n",
       "       [0, 1, 0, ..., 0, 0, 0],\n",
       "       [0, 0, 1, ..., 0, 0, 0],\n",
       "       ...,\n",
       "       [0, 0, 0, ..., 1, 0, 0],\n",
       "       [0, 0, 0, ..., 0, 1, 0],\n",
       "       [0, 0, 0, ..., 0, 0, 1]])"
      ]
     },
     "execution_count": 195,
     "metadata": {},
     "output_type": "execute_result"
    }
   ],
   "source": [
    "(cs > 0.4).astype(int)"
   ]
  },
  {
   "cell_type": "code",
   "execution_count": 192,
   "metadata": {},
   "outputs": [],
   "source": [
    "m = (cs > 0.4).astype(int)"
   ]
  },
  {
   "cell_type": "code",
   "execution_count": 156,
   "metadata": {},
   "outputs": [
    {
     "data": {
      "text/plain": [
       "2597"
      ]
     },
     "execution_count": 156,
     "metadata": {},
     "output_type": "execute_result"
    }
   ],
   "source": [
    "m.sum().sum()"
   ]
  },
  {
   "cell_type": "markdown",
   "metadata": {},
   "source": [
    "## 安裝 Python-Louvain\n",
    "- ! pip install python-louvain-master.zip"
   ]
  },
  {
   "cell_type": "code",
   "execution_count": 135,
   "metadata": {},
   "outputs": [
    {
     "name": "stdout",
     "output_type": "stream",
     "text": [
      "Processing ./python-louvain-master.zip\n",
      "Requirement already satisfied: networkx in /Users/davidchiu/.pyenv/versions/3.6.2/lib/python3.6/site-packages (from python-louvain==0.13)\n",
      "Requirement already satisfied: decorator>=3.4.0 in /Users/davidchiu/.pyenv/versions/3.6.2/lib/python3.6/site-packages (from networkx->python-louvain==0.13)\n",
      "Building wheels for collected packages: python-louvain\n",
      "  Running setup.py bdist_wheel for python-louvain ... \u001b[?25ldone\n",
      "\u001b[?25h  Stored in directory: /Users/davidchiu/Library/Caches/pip/wheels/5d/ed/69/efc1cacbf21a1927775fcbd843c172aedc72ddbbb0e5986ec0\n",
      "Successfully built python-louvain\n",
      "Installing collected packages: python-louvain\n",
      "  Found existing installation: python-louvain 0.11\n",
      "    Uninstalling python-louvain-0.11:\n",
      "      Successfully uninstalled python-louvain-0.11\n",
      "Successfully installed python-louvain-0.13\n",
      "\u001b[33mYou are using pip version 9.0.1, however version 19.2.1 is available.\n",
      "You should consider upgrading via the 'pip install --upgrade pip' command.\u001b[0m\n"
     ]
    }
   ],
   "source": [
    "! pip install python-louvain-master.zip"
   ]
  },
  {
   "cell_type": "code",
   "execution_count": 199,
   "metadata": {},
   "outputs": [],
   "source": [
    "import networkx as nx\n",
    "G = nx.from_numpy_matrix(m)"
   ]
  },
  {
   "cell_type": "code",
   "execution_count": 198,
   "metadata": {},
   "outputs": [],
   "source": [
    "nx.graphml.write_graphml(G, 'news.graphml')"
   ]
  },
  {
   "cell_type": "code",
   "execution_count": 200,
   "metadata": {},
   "outputs": [],
   "source": [
    "import community\n",
    "comm = community.best_partition(G)\n",
    "cluster_ary = numpy.array(list(comm.values()))"
   ]
  },
  {
   "cell_type": "code",
   "execution_count": 202,
   "metadata": {},
   "outputs": [],
   "source": [
    "#cluster_ary"
   ]
  },
  {
   "cell_type": "code",
   "execution_count": 203,
   "metadata": {},
   "outputs": [
    {
     "data": {
      "text/plain": [
       "[(3, 30),\n",
       " (39, 27),\n",
       " (63, 13),\n",
       " (131, 13),\n",
       " (106, 8),\n",
       " (171, 8),\n",
       " (20, 7),\n",
       " (181, 7),\n",
       " (495, 6),\n",
       " (7, 5)]"
      ]
     },
     "execution_count": 203,
     "metadata": {},
     "output_type": "execute_result"
    }
   ],
   "source": [
    "from collections import Counter\n",
    "c = Counter(cluster_ary.tolist())\n",
    "c.most_common(10)"
   ]
  },
  {
   "cell_type": "code",
   "execution_count": 204,
   "metadata": {},
   "outputs": [
    {
     "name": "stdout",
     "output_type": "stream",
     "text": [
      "被爆賤賣中視讓利4.8億　馬英九回應了\n",
      "徐永明：看來蔡正元不願再掩護馬英九\n",
      " 回應北檢聲明　徐巧芯 ：不要事情鬧大了才推給媒體\n",
      "「狗急跳牆亂咬人」溫紳說馬英九該告媒體\n",
      "遭馬英九告洩密　北檢：嚴守偵查不公開\n",
      "「忍無可忍」　馬英九怒告檢察長洩三中案不實秘密\n",
      "李惠仁怒嗆：馬英九，你有什麼資格按鈴？！\n",
      "馬英九反擊！不滿遭影射三中案有罪　馬親自到地檢署告北檢洩密\n",
      "三中案馬英九圖利中時老闆？　北檢：不評論\n",
      "藍營人士：北檢一再人格謀殺馬英九　「營造有罪氛圍」\n",
      "三中案交易傳有馬英九讓利關鍵錄音　馬辦諷：宛如小說\n",
      "三中案祕錄光碟！恐扳倒馬英九　當年他錄的\n",
      "三中案500萬禮盒照　馬英九一句話成關鍵\n"
     ]
    }
   ],
   "source": [
    "np_titles = numpy.array(titles)\n",
    "for ele in np_titles[cluster_ary == 63]:\n",
    "    print(ele)"
   ]
  },
  {
   "cell_type": "code",
   "execution_count": 205,
   "metadata": {},
   "outputs": [
    {
     "name": "stdout",
     "output_type": "stream",
     "text": [
      "標題: 【特企】NGO聯名譴責中共迫害宗教信仰 文章數量: 30\n",
      "=================================\n",
      "標題: 「想抱孫要看天！」　他批小嫻婆婆殘忍強逼 文章數量: 27\n",
      "=================================\n",
      "標題: 被爆賤賣中視讓利4.8億　馬英九回應了 文章數量: 13\n",
      "=================================\n",
      "標題: 【美夢一場】美台軍艦互訪皆是空？　卜睿哲：川普不會執行 文章數量: 13\n",
      "=================================\n",
      "標題: 驚！　野生捕獲恐龍遛汪星人 文章數量: 8\n",
      "=================================\n",
      "標題: 【寒心動畫】南山全台大砍130人　「拿過模範員工也被犧牲！」 文章數量: 8\n",
      "=================================\n",
      "標題: 玉山清晨降雪　陽光露臉融化糖霜潤大地 文章數量: 7\n",
      "=================================\n",
      "標題: 【尊嚴片】被前女友譏諷「裝B」　他抓緊胯下崩潰 文章數量: 7\n",
      "=================================\n",
      "標題: 女星登Google熱搜人物第一　背後原因超心酸 文章數量: 6\n",
      "=================================\n",
      "標題: 【Fed告別秀】葉倫談比特幣　以7個字總結 文章數量: 5\n",
      "=================================\n"
     ]
    }
   ],
   "source": [
    "for k,v in c.most_common(10):\n",
    "    #for ele in np_titles[cluster_ary == k][0]:\n",
    "    #    print(ele)\n",
    "    print('標題:',np_titles[cluster_ary == k][0], '文章數量:', v)\n",
    "    print('=================================')"
   ]
  },
  {
   "cell_type": "code",
   "execution_count": 212,
   "metadata": {},
   "outputs": [
    {
     "data": {
      "text/plain": [
       "(28936,)"
      ]
     },
     "execution_count": 212,
     "metadata": {},
     "output_type": "execute_result"
    }
   ],
   "source": [
    "numpy.asarray(X[cluster_ary == 39].sum(axis = 0))[0].shape"
   ]
  },
  {
   "cell_type": "code",
   "execution_count": 214,
   "metadata": {},
   "outputs": [
    {
     "data": {
      "text/plain": [
       "array([2, 1, 0, 3, 4])"
      ]
     },
     "execution_count": 214,
     "metadata": {},
     "output_type": "execute_result"
    }
   ],
   "source": [
    "a = numpy.array([70,80,90,60,50])\n",
    "a.argsort()[::-1]"
   ]
  },
  {
   "cell_type": "code",
   "execution_count": 183,
   "metadata": {},
   "outputs": [],
   "source": [
    "idx = numpy.asarray(X[cluster_ary == 39].sum(axis = 0))[0].argsort()[::-1][0:10]"
   ]
  },
  {
   "cell_type": "code",
   "execution_count": 184,
   "metadata": {},
   "outputs": [],
   "source": [
    "feature_names = numpy.array(vectorizer.get_feature_names())"
   ]
  },
  {
   "cell_type": "code",
   "execution_count": 185,
   "metadata": {},
   "outputs": [
    {
     "data": {
      "text/plain": [
       "array(['小嫻', '何守正', '離婚', '美國', '結婚', '自己', '妙禪', '時間', '報導', '何家'],\n",
       "      dtype='<U18')"
      ]
     },
     "execution_count": 185,
     "metadata": {},
     "output_type": "execute_result"
    }
   ],
   "source": [
    "feature_names[idx]"
   ]
  },
  {
   "cell_type": "code",
   "execution_count": 215,
   "metadata": {},
   "outputs": [
    {
     "name": "stdout",
     "output_type": "stream",
     "text": [
      "標題: 【特企】NGO聯名譴責中共迫害宗教信仰 文章數量: 30\n",
      "關鍵字: 教會,全能,宗教,中國,自由,國際,組織,人權,政府,遭受\n",
      "=================================\n",
      "標題: 「想抱孫要看天！」　他批小嫻婆婆殘忍強逼 文章數量: 27\n",
      "關鍵字: 小嫻,何守正,離婚,美國,結婚,自己,妙禪,時間,報導,何家\n",
      "=================================\n",
      "標題: 被爆賤賣中視讓利4.8億　馬英九回應了 文章數量: 13\n",
      "關鍵字: 馬英九,北檢,報導,檢方,媒體,三中,前總統,偵查,國民黨,洩密\n",
      "=================================\n",
      "標題: 【美夢一場】美台軍艦互訪皆是空？　卜睿哲：川普不會執行 文章數量: 13\n",
      "關鍵字: 台灣,美國,川普,國會,軍艦,總統,中國,美台,法案,關係\n",
      "=================================\n",
      "標題: 驚！　野生捕獲恐龍遛汪星人 文章數量: 8\n",
      "關鍵字: ig,專頁,影片,網友,分享,網路,請上,日前,毛愛,綜合\n",
      "=================================\n",
      "標題: 【寒心動畫】南山全台大砍130人　「拿過模範員工也被犧牲！」 文章數量: 8\n",
      "關鍵字: 人壽,業務員,友邦,南山,員工,通路,服務,公司,轉型,保戶\n",
      "=================================\n",
      "標題: 玉山清晨降雪　陽光露臉融化糖霜潤大地 文章數量: 7\n",
      "關鍵字: 北部,玉山,氣溫,空氣,影響,天氣,中南部,地區,氣象局,東北\n",
      "=================================\n",
      "標題: 【尊嚴片】被前女友譏諷「裝B」　他抓緊胯下崩潰 文章數量: 7\n",
      "關鍵字: 蘋果,中心,影創,甚至,就是,只要,影片,分享,選擇,本片\n",
      "=================================\n",
      "標題: 女星登Google熱搜人物第一　背後原因超心酸 文章數量: 6\n",
      "關鍵字: 台灣,google,今年,冠軍,熱搜,快速,2017,流行語,搜尋,竄升\n",
      "=================================\n",
      "標題: 【Fed告別秀】葉倫談比特幣　以7個字總結 文章數量: 5\n",
      "關鍵字: fed,美元,美國,升息,市場,預測,葉倫,預期,可能,明年\n",
      "=================================\n"
     ]
    }
   ],
   "source": [
    "for k,v in c.most_common(10):\n",
    "    #for ele in np_titles[cluster_ary == k][0]:\n",
    "    #    print(ele)\n",
    "    idx = numpy.asarray(X[cluster_ary == k].sum(axis = 0))[0].argsort()[::-1][0:10]\n",
    "    print('標題:',np_titles[cluster_ary == k][0], '文章數量:', v)\n",
    "    print('關鍵字:', ','.join(feature_names[idx].tolist()))\n",
    "    print('=================================')"
   ]
  },
  {
   "cell_type": "markdown",
   "metadata": {},
   "source": [
    "## 使用 TFIDF 矩陣做分群"
   ]
  },
  {
   "cell_type": "code",
   "execution_count": 218,
   "metadata": {},
   "outputs": [],
   "source": [
    "import pandas\n",
    "news = pandas.read_excel('data/20171214news.xlsx', index_col=0)\n",
    "#news.head(3)"
   ]
  },
  {
   "cell_type": "code",
   "execution_count": 219,
   "metadata": {},
   "outputs": [],
   "source": [
    "import jieba\n",
    "corpus = []\n",
    "titles = []\n",
    "for rec in news.iterrows():\n",
    "    content = rec[1]['content']\n",
    "    title = rec[1]['title']\n",
    "    corpus.append(' '.join(jieba.cut(content)))\n",
    "    titles.append(title)"
   ]
  },
  {
   "cell_type": "code",
   "execution_count": 220,
   "metadata": {},
   "outputs": [],
   "source": [
    "from sklearn.feature_extraction.text import TfidfVectorizer\n",
    "vectorizer = TfidfVectorizer()\n",
    "X = vectorizer.fit_transform(corpus)"
   ]
  },
  {
   "cell_type": "code",
   "execution_count": 221,
   "metadata": {},
   "outputs": [],
   "source": [
    "from sklearn.metrics.pairwise import cosine_similarity\n",
    "cs = cosine_similarity(X)"
   ]
  },
  {
   "cell_type": "code",
   "execution_count": 226,
   "metadata": {},
   "outputs": [],
   "source": [
    "m = (cs > 0.3).astype(int)"
   ]
  },
  {
   "cell_type": "code",
   "execution_count": 227,
   "metadata": {},
   "outputs": [],
   "source": [
    "import networkx as nx\n",
    "G = nx.from_numpy_matrix(m)"
   ]
  },
  {
   "cell_type": "code",
   "execution_count": 228,
   "metadata": {},
   "outputs": [],
   "source": [
    "import community\n",
    "comm = community.best_partition(G)\n",
    "cluster_ary = numpy.array(list(comm.values()))"
   ]
  },
  {
   "cell_type": "code",
   "execution_count": 230,
   "metadata": {},
   "outputs": [
    {
     "name": "stdout",
     "output_type": "stream",
     "text": [
      "群: 3 標題: 【特企】NGO聯名譴責中共迫害宗教信仰 文章數量: 30\n",
      "關鍵字: 全能,教會,宗教,中國,自由,組織,迫害,人權,遭受,國際\n",
      "=================================\n",
      "群: 39 標題: 國防部解約慶富要提告　馮世寬怒嗆三遍：請便 文章數量: 27\n",
      "關鍵字: 解約,國防部,慶富,獵雷艦,陳慶,預付款,契約,海軍,公司,馮世\n",
      "=================================\n",
      "群: 63 標題: 【好聚不好散】離婚掏出6千萬　這女星比小嫻還慘 文章數量: 13\n",
      "關鍵字: 前夫,離婚,贍養費,監護權,和解金,付出,兒子,萬元,陳美鳳,支付\n",
      "=================================\n",
      "群: 131 標題: 「一個地球高峰會」砸300億　力拚拒用油煤 文章數量: 13\n",
      "關鍵字: 氣候,地球,馬克宏,協定,法國,高峰會,得主,峰會,美國,川普\n",
      "=================================\n",
      "群: 106 標題: 名模教主同台比美　46歲零皺紋挨批妖怪 文章數量: 8\n",
      "關鍵字: 平子理沙,shiho,保養,完全,妖怪,美魔女,果汁,自然,節目,皺紋\n",
      "=================================\n",
      "群: 171 標題: 【有片】北市東區餐廳竄火　警消急疏散242民眾 文章數量: 8\n",
      "關鍵字: 滅火,火勢,現場,燒烤,管路,拉水線,警消,好客,滅火器,242\n",
      "=================================\n",
      "群: 20 標題: 畢旅變調　高職生五星級飯店抓狂嘶吼就醫 文章數量: 7\n",
      "關鍵字: 方姓,學生,同學,抓狂,警方,失控,壓制,清晨,飯店,直到\n",
      "=================================\n",
      "群: 181 標題: 「類豪宅」低空閃豪宅稅　北市這區量增最多 文章數量: 7\n",
      "關鍵字: 豪宅,總價,揭露,交易,實價,萬元,單價,房屋,七期,豪宅稅\n",
      "=================================\n",
      "群: 495 標題: 【神奇片】這麼厲害？！印度政客：總理吃台灣蘑菇美白 文章數量: 6\n",
      "關鍵字: 蘑菇,莫迪,印度,塔寇爾,要價,每天,台幣,最近,台灣,narendra\n",
      "=================================\n",
      "群: 7 標題: 我駐厄瓜多外館7月遭改名　外交部：現已中止雙方合作案 文章數量: 5\n",
      "關鍵字: 外館,我方,厄瓜多,中華民國,改名,對方,牡蠣,巴林,奈及利亞,合作案\n",
      "=================================\n"
     ]
    }
   ],
   "source": [
    "for k,v in c.most_common(10):\n",
    "    idx = numpy.asarray(X[cluster_ary == k].sum(axis = 0))[0].argsort()[::-1][0:10]\n",
    "    print('群:',k,'標題:',np_titles[cluster_ary == k][0], '文章數量:', v)\n",
    "    print('關鍵字:', ','.join(feature_names[idx].tolist()))\n",
    "    print('=================================')"
   ]
  },
  {
   "cell_type": "markdown",
   "metadata": {},
   "source": [
    "## 分群問題\n",
    "有一資料集 20171003_applenews.xlsx\n",
    "請試著將資料建立詞頻矩陣，必計算相似度\n",
    "接者利用kmeans 與 community detection 方法，試著將資料作分群\n",
    "並列出數量最高十個議題的標題與關鍵字?"
   ]
  },
  {
   "cell_type": "code",
   "execution_count": 236,
   "metadata": {},
   "outputs": [],
   "source": [
    "import pandas\n",
    "news = pandas.read_excel('data/20171003_applenews.xlsx', index_col=0)"
   ]
  },
  {
   "cell_type": "code",
   "execution_count": 237,
   "metadata": {},
   "outputs": [
    {
     "data": {
      "text/plain": [
       "1020"
      ]
     },
     "execution_count": 237,
     "metadata": {},
     "output_type": "execute_result"
    }
   ],
   "source": [
    "len(news)"
   ]
  },
  {
   "cell_type": "code",
   "execution_count": 238,
   "metadata": {},
   "outputs": [
    {
     "data": {
      "text/html": [
       "<div>\n",
       "<style scoped>\n",
       "    .dataframe tbody tr th:only-of-type {\n",
       "        vertical-align: middle;\n",
       "    }\n",
       "\n",
       "    .dataframe tbody tr th {\n",
       "        vertical-align: top;\n",
       "    }\n",
       "\n",
       "    .dataframe thead th {\n",
       "        text-align: right;\n",
       "    }\n",
       "</style>\n",
       "<table border=\"1\" class=\"dataframe\">\n",
       "  <thead>\n",
       "    <tr style=\"text-align: right;\">\n",
       "      <th></th>\n",
       "      <th>category</th>\n",
       "      <th>clicked</th>\n",
       "      <th>content</th>\n",
       "      <th>time</th>\n",
       "      <th>title</th>\n",
       "      <th>url</th>\n",
       "    </tr>\n",
       "  </thead>\n",
       "  <tbody>\n",
       "    <tr>\n",
       "      <th>0</th>\n",
       "      <td>生活</td>\n",
       "      <td>人氣(10103)</td>\n",
       "      <td>（新增：事故現場圖）台鐵局編號114次、潮州開住七堵的pp自強號，於今日上午10時25分行駛...</td>\n",
       "      <td>2017-10-03 12:37:00</td>\n",
       "      <td>路人闖入遭自強號撞死　彰化至竹南站間一度延誤</td>\n",
       "      <td>http://www.appledaily.com.tw/realtimenews/arti...</td>\n",
       "    </tr>\n",
       "    <tr>\n",
       "      <th>1</th>\n",
       "      <td>社會</td>\n",
       "      <td>人氣(32608)</td>\n",
       "      <td>（更新：影片、案情）阿羅哈客運上月12日凌晨在國道一號岡山交流道附近發生6死11傷重大車禍，...</td>\n",
       "      <td>2017-10-03 15:03:00</td>\n",
       "      <td>阿羅哈6死車禍肇因出爐　駕駛分神找東西釀禍</td>\n",
       "      <td>http://www.appledaily.com.tw/realtimenews/arti...</td>\n",
       "    </tr>\n",
       "    <tr>\n",
       "      <th>2</th>\n",
       "      <td>生活</td>\n",
       "      <td>人氣(3281)</td>\n",
       "      <td>明天就是中秋節，北市開放河濱公園指定地點方便民眾烤肉賞月，台北市政府表示，平時已有指定區域開...</td>\n",
       "      <td>2017-10-03 12:48:00</td>\n",
       "      <td>北市中秋烤肉何處去　這些地點讓你挑</td>\n",
       "      <td>http://www.appledaily.com.tw/realtimenews/arti...</td>\n",
       "    </tr>\n",
       "  </tbody>\n",
       "</table>\n",
       "</div>"
      ],
      "text/plain": [
       "  category    clicked                                            content  \\\n",
       "0       生活  人氣(10103)  （新增：事故現場圖）台鐵局編號114次、潮州開住七堵的pp自強號，於今日上午10時25分行駛...   \n",
       "1       社會  人氣(32608)  （更新：影片、案情）阿羅哈客運上月12日凌晨在國道一號岡山交流道附近發生6死11傷重大車禍，...   \n",
       "2       生活   人氣(3281)  明天就是中秋節，北市開放河濱公園指定地點方便民眾烤肉賞月，台北市政府表示，平時已有指定區域開...   \n",
       "\n",
       "                 time                   title  \\\n",
       "0 2017-10-03 12:37:00  路人闖入遭自強號撞死　彰化至竹南站間一度延誤   \n",
       "1 2017-10-03 15:03:00   阿羅哈6死車禍肇因出爐　駕駛分神找東西釀禍   \n",
       "2 2017-10-03 12:48:00       北市中秋烤肉何處去　這些地點讓你挑   \n",
       "\n",
       "                                                 url  \n",
       "0  http://www.appledaily.com.tw/realtimenews/arti...  \n",
       "1  http://www.appledaily.com.tw/realtimenews/arti...  \n",
       "2  http://www.appledaily.com.tw/realtimenews/arti...  "
      ]
     },
     "execution_count": 238,
     "metadata": {},
     "output_type": "execute_result"
    }
   ],
   "source": [
    "news.head(3)"
   ]
  },
  {
   "cell_type": "code",
   "execution_count": 242,
   "metadata": {},
   "outputs": [],
   "source": [
    "corpus = []\n",
    "titles = []\n",
    "for rec in news.iterrows():\n",
    "    content = rec[1]['content']\n",
    "    title = rec[1]['title']\n",
    "    corpus.append(' '.join(jieba.cut(content)))\n",
    "    titles.append(title)"
   ]
  },
  {
   "cell_type": "code",
   "execution_count": 243,
   "metadata": {},
   "outputs": [],
   "source": [
    "from sklearn.feature_extraction.text import CountVectorizer\n",
    "vectorizer = CountVectorizer()\n",
    "X = vectorizer.fit_transform(corpus)"
   ]
  },
  {
   "cell_type": "code",
   "execution_count": 244,
   "metadata": {},
   "outputs": [
    {
     "data": {
      "text/plain": [
       "<1020x31601 sparse matrix of type '<class 'numpy.int64'>'\n",
       "\twith 127384 stored elements in Compressed Sparse Row format>"
      ]
     },
     "execution_count": 244,
     "metadata": {},
     "output_type": "execute_result"
    }
   ],
   "source": [
    "X"
   ]
  },
  {
   "cell_type": "code",
   "execution_count": 245,
   "metadata": {},
   "outputs": [],
   "source": [
    "from sklearn.metrics.pairwise import cosine_similarity\n",
    "cs = cosine_similarity(X)"
   ]
  },
  {
   "cell_type": "markdown",
   "metadata": {},
   "source": [
    "### KMeans"
   ]
  },
  {
   "cell_type": "code",
   "execution_count": 251,
   "metadata": {},
   "outputs": [],
   "source": [
    "from sklearn.cluster import KMeans\n",
    "km = KMeans(n_clusters=10, random_state=42)\n",
    "cluster = km.fit_predict(cs)"
   ]
  },
  {
   "cell_type": "code",
   "execution_count": 247,
   "metadata": {},
   "outputs": [],
   "source": [
    "np_titles = numpy.array(titles)"
   ]
  },
  {
   "cell_type": "code",
   "execution_count": 252,
   "metadata": {},
   "outputs": [],
   "source": [
    "from collections import Counter\n",
    "c = Counter(cluster)"
   ]
  },
  {
   "cell_type": "code",
   "execution_count": 257,
   "metadata": {},
   "outputs": [],
   "source": [
    "\n",
    "#for k in c.keys():\n",
    "#    print(f'第{k}群：')\n",
    "#    print('==============================')\n",
    "#    for i in np_titles[cluster == k]:\n",
    "#        print(i)\n",
    "#    print('==============================')"
   ]
  },
  {
   "cell_type": "markdown",
   "metadata": {},
   "source": [
    "### Community Detection"
   ]
  },
  {
   "cell_type": "code",
   "execution_count": 259,
   "metadata": {},
   "outputs": [],
   "source": [
    "m = (cs > 0.4).astype(int)"
   ]
  },
  {
   "cell_type": "code",
   "execution_count": 260,
   "metadata": {},
   "outputs": [
    {
     "data": {
      "text/plain": [
       "1766"
      ]
     },
     "execution_count": 260,
     "metadata": {},
     "output_type": "execute_result"
    }
   ],
   "source": [
    "m.sum().sum()"
   ]
  },
  {
   "cell_type": "code",
   "execution_count": 261,
   "metadata": {},
   "outputs": [],
   "source": [
    "import networkx as nx\n",
    "G = nx.from_numpy_matrix(m)"
   ]
  },
  {
   "cell_type": "code",
   "execution_count": 262,
   "metadata": {},
   "outputs": [],
   "source": [
    "import community\n",
    "comm = community.best_partition(G)"
   ]
  },
  {
   "cell_type": "code",
   "execution_count": 266,
   "metadata": {},
   "outputs": [],
   "source": [
    "cluster_ary = numpy.array(list(comm.values()))"
   ]
  },
  {
   "cell_type": "code",
   "execution_count": 267,
   "metadata": {},
   "outputs": [
    {
     "data": {
      "text/plain": [
       "array([  0,   1,   2, ..., 783, 784, 785])"
      ]
     },
     "execution_count": 267,
     "metadata": {},
     "output_type": "execute_result"
    }
   ],
   "source": [
    "cluster_ary"
   ]
  },
  {
   "cell_type": "code",
   "execution_count": 268,
   "metadata": {},
   "outputs": [
    {
     "data": {
      "text/plain": [
       "[(35, 23),\n",
       " (15, 18),\n",
       " (80, 16),\n",
       " (39, 13),\n",
       " (367, 11),\n",
       " (67, 7),\n",
       " (199, 7),\n",
       " (36, 6),\n",
       " (88, 6),\n",
       " (105, 6)]"
      ]
     },
     "execution_count": 268,
     "metadata": {},
     "output_type": "execute_result"
    }
   ],
   "source": [
    "from collections import Counter\n",
    "c = Counter(cluster_ary)\n",
    "c.most_common(10)"
   ]
  },
  {
   "cell_type": "code",
   "execution_count": 271,
   "metadata": {},
   "outputs": [
    {
     "name": "stdout",
     "output_type": "stream",
     "text": [
      "標題: 台積電如何分工？　傳魏哲家負責最大客戶蘋果、劉德音負責高通 聲量: 23\n",
      "關鍵字: 台積電,張忠謀,董事長,退休,公司,台灣,半導體,表示,宣布,美國\n",
      "=============================================\n",
      "標題: ​歷史之鑑下看加泰隆尼亞的獨立公投 聲量: 18\n",
      "關鍵字: 加泰隆尼亞,獨立,西班牙,公投,政府,投票,自治區,民眾,警方,國家\n",
      "=============================================\n",
      "標題: 與蔡英文變兩個太陽？　賴清德：各司其職分工非常好 聲量: 16\n",
      "關鍵字: 蔡英文,總統,賴清德,民進黨,行政院長,專訪,中央社,接受,內閣,陳菊\n",
      "=============================================\n",
      "標題: 美國賭城大屠殺　外交部：已向美方表達慰問與關懷 聲量: 13\n",
      "關鍵字: 槍手,警方,美國,朵克,賭城,報導,國際,表示,槍擊案,飯店\n",
      "=============================================\n",
      "標題: 他臉書羞辱護理師　護師工會開吉了 聲量: 11\n",
      "關鍵字: 護理師,護士,護理,影片,人員,網友,臉書,可以,你們,陳睿明\n",
      "=============================================\n",
      "標題: 狗狗溜滑梯 滑稽動作有夠萌 聲量: 7\n",
      "關鍵字: 主人,更多,內容,粉絲,粉絲團,來源,圖片,facebook,專頁,毛愛\n",
      "=============================================\n",
      "標題: 下午變天　新北宜花基防局部大雨 聲量: 7\n",
      "關鍵字: 高溫,東北風,氣象局,北部,台北,影響,天氣,中南部,今天,東半部\n",
      "=============================================\n",
      "標題: 豬哥老闆夜誘人妻　「陪1天送妳iPhone X」 聲量: 6\n",
      "關鍵字: 蘋果,中心,影創,影音,看見,故事,報導,分享,禁止,舞台\n",
      "=============================================\n",
      "標題: 遭女友閨密控性侵　男主角：她對我眉來眼去 聲量: 6\n",
      "關鍵字: 小三,男友,女子,影片,閨密,長腿,姊妹,表示,旅館,新聞\n",
      "=============================================\n",
      "標題: 國慶晚會宣傳影片無國旗國號　國民黨批林佳龍搞城市行銷 聲量: 6\n",
      "關鍵字: 國旗,國慶,中華民國,沒有,陳菊,媒體,我們,邀請函,張老旺,文件\n",
      "=============================================\n"
     ]
    }
   ],
   "source": [
    "feature_names =  numpy.array(vectorizer.get_feature_names())\n",
    "for k,v in c.most_common(10):\n",
    "    print('標題:',np_titles[cluster_ary == k][0], '聲量:',v )\n",
    "    idx = numpy.asarray(X[cluster_ary == k].sum(axis = 0))[0].argsort()[::-1][0:10]\n",
    "    print('關鍵字:', ','.join(feature_names[idx].tolist()))\n",
    "    print('=============================================')"
   ]
  },
  {
   "cell_type": "markdown",
   "metadata": {},
   "source": [
    "## 新聞分類"
   ]
  },
  {
   "cell_type": "code",
   "execution_count": 272,
   "metadata": {},
   "outputs": [
    {
     "data": {
      "text/html": [
       "<div>\n",
       "<style scoped>\n",
       "    .dataframe tbody tr th:only-of-type {\n",
       "        vertical-align: middle;\n",
       "    }\n",
       "\n",
       "    .dataframe tbody tr th {\n",
       "        vertical-align: top;\n",
       "    }\n",
       "\n",
       "    .dataframe thead th {\n",
       "        text-align: right;\n",
       "    }\n",
       "</style>\n",
       "<table border=\"1\" class=\"dataframe\">\n",
       "  <thead>\n",
       "    <tr style=\"text-align: right;\">\n",
       "      <th></th>\n",
       "      <th>category</th>\n",
       "      <th>content</th>\n",
       "      <th>link</th>\n",
       "      <th>title</th>\n",
       "    </tr>\n",
       "  </thead>\n",
       "  <tbody>\n",
       "    <tr>\n",
       "      <th>0</th>\n",
       "      <td>政治</td>\n",
       "      <td>新增：立委說法民進黨立法院黨團預計在明天的院會中，讓改制農田水利會的《農田水利會組織通則》修...</td>\n",
       "      <td>https://tw.news.appledaily.com/politics/realti...</td>\n",
       "      <td>【更新】水利會改官派明闖關　綠委24小時前顧議場大門防藍突襲</td>\n",
       "    </tr>\n",
       "    <tr>\n",
       "      <th>1</th>\n",
       "      <td>論壇</td>\n",
       "      <td>邱俊棠／台中市民、見習醫師；曾任台灣醫學生聯合會對外副會長對於公民參與公眾事務而能得到單位首...</td>\n",
       "      <td>https://tw.news.appledaily.com/forum/realtime/...</td>\n",
       "      <td>請中市府為所當為 加速中火燃煤限制</td>\n",
       "    </tr>\n",
       "    <tr>\n",
       "      <th>2</th>\n",
       "      <td>社會</td>\n",
       "      <td>被控來台涉發展情報組織的中國學生周泓旭，因接觸我方外交部官員而露餡落網，今年9月被台北地院一...</td>\n",
       "      <td>https://tw.news.appledaily.com/local/realtime/...</td>\n",
       "      <td>陸生共諜嗆台司法　「不敢公開審理我」</td>\n",
       "    </tr>\n",
       "  </tbody>\n",
       "</table>\n",
       "</div>"
      ],
      "text/plain": [
       "  category                                            content  \\\n",
       "0       政治  新增：立委說法民進黨立法院黨團預計在明天的院會中，讓改制農田水利會的《農田水利會組織通則》修...   \n",
       "1       論壇  邱俊棠／台中市民、見習醫師；曾任台灣醫學生聯合會對外副會長對於公民參與公眾事務而能得到單位首...   \n",
       "2       社會  被控來台涉發展情報組織的中國學生周泓旭，因接觸我方外交部官員而露餡落網，今年9月被台北地院一...   \n",
       "\n",
       "                                                link  \\\n",
       "0  https://tw.news.appledaily.com/politics/realti...   \n",
       "1  https://tw.news.appledaily.com/forum/realtime/...   \n",
       "2  https://tw.news.appledaily.com/local/realtime/...   \n",
       "\n",
       "                            title  \n",
       "0  【更新】水利會改官派明闖關　綠委24小時前顧議場大門防藍突襲  \n",
       "1               請中市府為所當為 加速中火燃煤限制  \n",
       "2              陸生共諜嗆台司法　「不敢公開審理我」  "
      ]
     },
     "execution_count": 272,
     "metadata": {},
     "output_type": "execute_result"
    }
   ],
   "source": [
    "import pandas\n",
    "news = pandas.read_excel('data/20171214news.xlsx', index_col=0)\n",
    "news.head(3)"
   ]
  },
  {
   "cell_type": "code",
   "execution_count": 275,
   "metadata": {},
   "outputs": [
    {
     "data": {
      "text/plain": [
       "array(['政治', '論壇', '社會', '生活', '財經地產', '娛樂', '體育', '國際', '副刊', '動物', '3C',\n",
       "       '壹週刊'], dtype=object)"
      ]
     },
     "execution_count": 275,
     "metadata": {},
     "output_type": "execute_result"
    }
   ],
   "source": [
    "news['category'].unique()"
   ]
  },
  {
   "cell_type": "code",
   "execution_count": 321,
   "metadata": {},
   "outputs": [],
   "source": [
    "corpus = []\n",
    "titles = []\n",
    "tags   = []\n",
    "#for rec in news[news['category'].isin(['社會','娛樂','財經地產'])].iterrows():\n",
    "for rec in news[news['category'].isin(['社會','娛樂'])].iterrows():\n",
    "\n",
    "    content = rec[1]['content']\n",
    "    title = rec[1]['title']\n",
    "    category = rec[1]['category']\n",
    "    corpus.append(' '.join(jieba.cut(content)))\n",
    "    titles.append(title)\n",
    "    tags.append(category)"
   ]
  },
  {
   "cell_type": "code",
   "execution_count": 322,
   "metadata": {},
   "outputs": [
    {
     "data": {
      "text/plain": [
       "247"
      ]
     },
     "execution_count": 322,
     "metadata": {},
     "output_type": "execute_result"
    }
   ],
   "source": [
    "len(titles)"
   ]
  },
  {
   "cell_type": "code",
   "execution_count": 323,
   "metadata": {},
   "outputs": [],
   "source": [
    "from sklearn.feature_extraction.text import CountVectorizer\n",
    "vectorizer = CountVectorizer()\n",
    "X = vectorizer.fit_transform(corpus)"
   ]
  },
  {
   "cell_type": "code",
   "execution_count": 324,
   "metadata": {},
   "outputs": [
    {
     "data": {
      "text/plain": [
       "<247x11380 sparse matrix of type '<class 'numpy.int64'>'\n",
       "\twith 30778 stored elements in Compressed Sparse Row format>"
      ]
     },
     "execution_count": 324,
     "metadata": {},
     "output_type": "execute_result"
    }
   ],
   "source": [
    "X"
   ]
  },
  {
   "cell_type": "code",
   "execution_count": 325,
   "metadata": {},
   "outputs": [],
   "source": [
    "from sklearn.model_selection import train_test_split\n",
    "train_X, test_X, train_y, test_y, train_titles, test_titles = train_test_split(X, tags, titles, test_size = 0.2, random_state = 42)"
   ]
  },
  {
   "cell_type": "code",
   "execution_count": 326,
   "metadata": {},
   "outputs": [
    {
     "data": {
      "text/plain": [
       "(197, 11380)"
      ]
     },
     "execution_count": 326,
     "metadata": {},
     "output_type": "execute_result"
    }
   ],
   "source": [
    "train_X.shape"
   ]
  },
  {
   "cell_type": "code",
   "execution_count": 327,
   "metadata": {},
   "outputs": [
    {
     "data": {
      "text/plain": [
       "(50, 11380)"
      ]
     },
     "execution_count": 327,
     "metadata": {},
     "output_type": "execute_result"
    }
   ],
   "source": [
    "test_X.shape"
   ]
  },
  {
   "cell_type": "code",
   "execution_count": 328,
   "metadata": {},
   "outputs": [
    {
     "data": {
      "text/plain": [
       "MultinomialNB(alpha=0.01, class_prior=None, fit_prior=True)"
      ]
     },
     "execution_count": 328,
     "metadata": {},
     "output_type": "execute_result"
    }
   ],
   "source": [
    "from sklearn.naive_bayes import MultinomialNB\n",
    "clf = MultinomialNB(alpha=0.01)\n",
    "clf.fit(train_X,train_y)"
   ]
  },
  {
   "cell_type": "code",
   "execution_count": 329,
   "metadata": {},
   "outputs": [
    {
     "data": {
      "text/plain": [
       "array(['社會', '社會', '社會', '社會', '社會', '社會', '社會', '娛樂', '娛樂', '娛樂', '娛樂',\n",
       "       '娛樂', '娛樂', '娛樂', '娛樂', '娛樂', '社會', '娛樂', '娛樂', '社會', '社會', '社會',\n",
       "       '娛樂', '社會', '娛樂', '社會', '社會', '娛樂', '娛樂', '社會', '社會', '社會', '社會',\n",
       "       '社會', '娛樂', '娛樂', '社會', '社會', '社會', '社會', '娛樂', '社會', '娛樂', '社會',\n",
       "       '娛樂', '社會', '社會', '社會', '娛樂', '娛樂'], dtype='<U2')"
      ]
     },
     "execution_count": 329,
     "metadata": {},
     "output_type": "execute_result"
    }
   ],
   "source": [
    "predicted = clf.predict(test_X)\n",
    "predicted"
   ]
  },
  {
   "cell_type": "code",
   "execution_count": 330,
   "metadata": {},
   "outputs": [
    {
     "name": "stdout",
     "output_type": "stream",
     "text": [
      "['社會', '社會', '社會', '社會', '社會', '社會', '社會', '娛樂', '娛樂', '娛樂', '娛樂', '娛樂', '娛樂', '娛樂', '娛樂', '娛樂', '社會', '娛樂', '娛樂', '社會', '社會', '社會', '娛樂', '社會', '娛樂', '社會', '社會', '娛樂', '娛樂', '社會', '社會', '社會', '社會', '社會', '娛樂', '娛樂', '社會', '社會', '社會', '社會', '娛樂', '社會', '娛樂', '社會', '娛樂', '社會', '社會', '社會', '娛樂', '娛樂']\n"
     ]
    }
   ],
   "source": [
    "print(test_y)"
   ]
  },
  {
   "cell_type": "code",
   "execution_count": 331,
   "metadata": {},
   "outputs": [
    {
     "data": {
      "text/plain": [
       "1.0"
      ]
     },
     "execution_count": 331,
     "metadata": {},
     "output_type": "execute_result"
    }
   ],
   "source": [
    "(predicted == test_y).sum()/len(test_y)"
   ]
  },
  {
   "cell_type": "code",
   "execution_count": 332,
   "metadata": {},
   "outputs": [
    {
     "data": {
      "text/plain": [
       "1.0"
      ]
     },
     "execution_count": 332,
     "metadata": {},
     "output_type": "execute_result"
    }
   ],
   "source": [
    "from sklearn.metrics import accuracy_score\n",
    "accuracy_score(test_y, predicted)"
   ]
  },
  {
   "cell_type": "code",
   "execution_count": 333,
   "metadata": {},
   "outputs": [
    {
     "name": "stdout",
     "output_type": "stream",
     "text": [
      "['娛樂' '社會']\n"
     ]
    },
    {
     "data": {
      "text/plain": [
       "array([[22,  0],\n",
       "       [ 0, 28]])"
      ]
     },
     "execution_count": 333,
     "metadata": {},
     "output_type": "execute_result"
    }
   ],
   "source": [
    "from sklearn.metrics import confusion_matrix\n",
    "print(clf.classes_)\n",
    "confusion_matrix(test_y, predicted)"
   ]
  },
  {
   "cell_type": "code",
   "execution_count": 334,
   "metadata": {},
   "outputs": [],
   "source": [
    "#vectorizer.get_feature_names()"
   ]
  },
  {
   "cell_type": "code",
   "execution_count": 335,
   "metadata": {},
   "outputs": [
    {
     "name": "stdout",
     "output_type": "stream",
     "text": [
      "(1, 5)\n",
      "(2, 6)\n",
      "(3, 7)\n"
     ]
    }
   ],
   "source": [
    "a = [1,2,3]\n",
    "b = [5,6,7]\n",
    "for rec in zip(a,b):\n",
    "    print(rec)"
   ]
  },
  {
   "cell_type": "code",
   "execution_count": 336,
   "metadata": {},
   "outputs": [
    {
     "name": "stdout",
     "output_type": "stream",
     "text": [
      "(78.0, '男子', 0.0, 78.0)\n",
      "(51.0, '新北', 0.0, 51.0)\n",
      "(50.0, '警員', 0.0, 50.0)\n",
      "(47.0, '突發', 0.0, 47.0)\n",
      "(41.0, '機車', 0.0, 41.0)\n",
      "(35.0, '少年', 0.0, 35.0)\n",
      "(35.0, '檢方', 0.0, 35.0)\n",
      "(34.0, '江男', 0.0, 34.0)\n",
      "(34.0, '警方', 4.0, 170.0)\n",
      "(32.0, '法官', 0.0, 32.0)\n",
      "(32.0, '派出所', 0.0, 32.0)\n",
      "(32.0, '陳姓', 0.0, 32.0)\n",
      "(30.0, '張男', 0.0, 30.0)\n",
      "(29.0, '時許', 0.0, 29.0)\n",
      "(29.0, '警消', 0.0, 29.0)\n",
      "(29.0, '陳男', 0.0, 29.0)\n",
      "(28.0, '到場', 0.0, 28.0)\n",
      "(28.0, '專線', 0.0, 28.0)\n",
      "(28.0, '釐清', 0.0, 28.0)\n",
      "(27.0, '林男', 0.0, 27.0)\n"
     ]
    }
   ],
   "source": [
    "import operator\n",
    "coef_features_c1_c2 = []\n",
    "\n",
    "for index, features in enumerate(zip(vectorizer.get_feature_names(), \\\n",
    "                        clf.feature_count_[0], clf.feature_count_[1])):\n",
    "    feat,c1,c2 = features\n",
    "    coef_features_c1_c2.append(tuple([c2/(c1 + 1), feat, c1, c2]))\n",
    "\n",
    "for i in sorted(coef_features_c1_c2, key = operator.itemgetter(0), reverse=True)[0:20]:\n",
    "    print(i)\n"
   ]
  },
  {
   "cell_type": "code",
   "execution_count": 337,
   "metadata": {},
   "outputs": [
    {
     "name": "stdout",
     "output_type": "stream",
     "text": [
      "(27.0, '妙禪', 27.0, 0.0)\n",
      "(24.0, '演出', 24.0, 0.0)\n",
      "(22.0, '何家', 22.0, 0.0)\n",
      "(17.0, '女星', 17.0, 0.0)\n",
      "(17.0, '節目', 17.0, 0.0)\n",
      "(17.0, '粉絲', 17.0, 0.0)\n",
      "(15.0, '三姊', 15.0, 0.0)\n",
      "(15.0, '娛樂', 15.0, 0.0)\n",
      "(15.0, '媽寶', 15.0, 0.0)\n",
      "(15.0, '電影', 15.0, 0.0)\n",
      "(13.384615384615385, '小嫻', 174.0, 12.0)\n",
      "(13.0, 'mv', 13.0, 0.0)\n",
      "(13.0, '二姊', 13.0, 0.0)\n",
      "(13.0, '最佳', 13.0, 0.0)\n",
      "(12.5, '婆婆', 25.0, 1.0)\n",
      "(12.0, '明年', 12.0, 0.0)\n",
      "(12.0, '法國', 12.0, 0.0)\n",
      "(11.0, '導演', 11.0, 0.0)\n",
      "(11.0, '小三', 11.0, 0.0)\n",
      "(11.0, '巴黎', 11.0, 0.0)\n"
     ]
    }
   ],
   "source": [
    "import operator\n",
    "coef_features_c1_c2 = []\n",
    "\n",
    "for index, features in enumerate(zip(vectorizer.get_feature_names(), \\\n",
    "                        clf.feature_count_[0], clf.feature_count_[1])):\n",
    "    feat,c1,c2 = features\n",
    "    coef_features_c1_c2.append(tuple([c1/(c2 + 1), feat, c1, c2]))\n",
    "\n",
    "for i in sorted(coef_features_c1_c2, key = operator.itemgetter(0), reverse=True)[0:20]:\n",
    "    print(i)\n"
   ]
  },
  {
   "cell_type": "markdown",
   "metadata": {},
   "source": [
    "## appledaily break script\n",
    "- https://gist.github.com/ywchiu/c2363caa0ae9261babeaea49e4a710fa"
   ]
  },
  {
   "cell_type": "code",
   "execution_count": 338,
   "metadata": {},
   "outputs": [],
   "source": [
    "article = '''\n",
    "Selina(任家萱)主持的談話性節目《女人28》，自8月2日(五)起，將在東森綜合台32頻道每週五晚間10點播出。過去Selina曾主持東森超視的節目—《小宇宙33號》和《五花八門金銀島》；固定嘉賓星座專家唐綺陽也在東森綜合和東森超視的節目擔任過主持和固定嘉賓，兩人都相當期待這次「回娘家」之後的化學反應。\n",
    "\n",
    "Selina開心表示，之前主持的節目恰巧都和數字有關，打趣說：「是不是東森的高層有在迷信些什麼？」唐綺陽則笑虧自己：「你們終於又看上我了，我真的超開心的！」逗得現場眾人大笑不已。\n",
    "\n",
    "七夕情人節將近，Selina跟唐綺陽被問是否有安排規劃時，唐綺陽開玩笑說：「你不覺得，七夕情人節在中元節的前一個禮拜是有意義的嗎？」Selina秒接：「沒過好七夕，就要過中元節！」兩人一搭一唱搞笑默契佳。\n",
    "\n",
    "談到「大叔戀、姊弟戀」這兩種節目近期討論過的戀愛模式，Selina坦言仍傾向成熟的對象，「但我現在有點太成熟了，所以不是很清楚。」還埋伏筆說：「看我的下一段戀情是大叔戀還是姊弟戀，大家就知道了。」唐綺陽則幽默回：「跟我搭配的大叔應該都去過中元節了吧！」最後，單身的兩人都直呼：「有戀就好、有戀最大！」\n",
    "\n",
    "「減肥」則是Selina與唐綺陽之間最有共鳴的話題，每次見面第一句話就是互道：「妳瘦了！」Selina說：「我們就是用這種方式安慰對方。」唐綺陽則笑說：「我們兩個有病！」有時候誇對方瘦了，對方還會回：「沒有沒有，我很胖！」彼此互相取暖，看得出兩人已培養出好交情。（葉文正／台北報導）\n",
    "'''"
   ]
  },
  {
   "cell_type": "code",
   "execution_count": 339,
   "metadata": {},
   "outputs": [],
   "source": [
    "query = ' '.join(jieba.cut(article))\n",
    "W = vectorizer.transform([query])"
   ]
  },
  {
   "cell_type": "code",
   "execution_count": 340,
   "metadata": {},
   "outputs": [
    {
     "data": {
      "text/plain": [
       "array(['娛樂'], dtype='<U2')"
      ]
     },
     "execution_count": 340,
     "metadata": {},
     "output_type": "execute_result"
    }
   ],
   "source": [
    "clf.predict(W)"
   ]
  },
  {
   "cell_type": "markdown",
   "metadata": {},
   "source": [
    "## 分類問題\n",
    "有一資料集 20171003_applenews.xlsx\n",
    "請試著將資料建立一分類模型\n",
    "接者利用該模型嘗試預測文章article 屬於什麼類別?"
   ]
  },
  {
   "cell_type": "code",
   "execution_count": 341,
   "metadata": {},
   "outputs": [],
   "source": [
    "article = '''\n",
    "國內金融圈首批「鯰魚」出現，金管會主委顧立雄30日揭曉純網銀核准名單，結果是「統統有獎」，將來銀行、樂天國際銀行及連線銀行等三家申請者都獲准設立，預估8～20個月後正式開業，顧立雄希望三家純網銀的創新營運模式，也能帶動傳統銀行創新其數位金融服務。\n",
    "\n",
    "三家純網銀估三到五年即可損益兩平，但顧立雄強調七大注意，一是純網銀帳戶24小時交易，會與央行商議，要求更高流動性準備，及純網銀須訂定緊急因應計畫；二是嚴禁「掠奪式競爭」，即純網銀沒實體分行，租金及人事成本已低，但若不顧資金成本、營運成本、風險胃納及合理利潤，用虧本競爭搶客戶，則金管會將會適度維持金融競爭秩序，第三到第七即注意信用風險、資安作業風險、社群或網路謠言要即時澄清的信譽風險、公司治理與消費者保護。\n",
    "\n",
    "顧立雄表示，連線銀行鎖定Line的使用者，要透過Line朋友清單進行轉帳、分帳及相關金融服務，更有一站式全方位旅遊的金融商品與服務；將來銀行鎖定銀行低度關注的客戶與信用小白，透過小助手管理社群帳戶及應繳帳單，主打客戶可隨時查信用評分、線上智能審核可隨時動撥小額信貸額度。\n",
    "\n",
    "樂天國際銀行主攻35～50歲白領客戶、樂天集團既有客戶、哈日族及智慧手機重度使用者，要主打樂天的超級點點、透過樂天Pay打通台日O2O體驗，還有台日外幣數位存款帳戶及提款卡，在日本可隨時在提款機提領日幣等。\n",
    "\n",
    "原本強調最多只發出二張純網銀執照的金管會突然「大放送」，直接給三張執照，顧立雄以三大理由回應，一是三家申請者各有目標客群及創新營運方式，三家都是不同評審委員評出的第一名，總和分數亦達到核准門檻，就普惠金融及金融創新的角度，三家都有助提供客戶的便利性。\n",
    "\n",
    "二是近期香港已陸續核出八家純網銀執照、新加坡宣布再開放五家，南韓除了現有兩家純網銀外，今年再度開放申請，顯示純網銀家數界線並非絕對，且以日本及南韓經驗來看，多年發展後，純網銀市占率仍低，對實體銀行與市場競爭影響有限。\n",
    "\n",
    "三是當初開放純網銀時，因為凱基銀併萬泰銀、元大銀併大眾銀，39家國銀剩37家，今年澳盛銀子行移轉給星展銀，家數再少一家，即三家純網銀開業後，也只是39家，但顧立雄強調，暫不規畫開放第二波純網銀申請。\n",
    "\n",
    "'''"
   ]
  },
  {
   "cell_type": "code",
   "execution_count": 342,
   "metadata": {},
   "outputs": [],
   "source": [
    "news = pandas.read_excel('data/20171003_applenews.xlsx', index_col=0)"
   ]
  },
  {
   "cell_type": "code",
   "execution_count": 344,
   "metadata": {},
   "outputs": [
    {
     "data": {
      "text/html": [
       "<div>\n",
       "<style scoped>\n",
       "    .dataframe tbody tr th:only-of-type {\n",
       "        vertical-align: middle;\n",
       "    }\n",
       "\n",
       "    .dataframe tbody tr th {\n",
       "        vertical-align: top;\n",
       "    }\n",
       "\n",
       "    .dataframe thead th {\n",
       "        text-align: right;\n",
       "    }\n",
       "</style>\n",
       "<table border=\"1\" class=\"dataframe\">\n",
       "  <thead>\n",
       "    <tr style=\"text-align: right;\">\n",
       "      <th></th>\n",
       "      <th>category</th>\n",
       "      <th>clicked</th>\n",
       "      <th>content</th>\n",
       "      <th>time</th>\n",
       "      <th>title</th>\n",
       "      <th>url</th>\n",
       "    </tr>\n",
       "  </thead>\n",
       "  <tbody>\n",
       "    <tr>\n",
       "      <th>0</th>\n",
       "      <td>生活</td>\n",
       "      <td>人氣(10103)</td>\n",
       "      <td>（新增：事故現場圖）台鐵局編號114次、潮州開住七堵的pp自強號，於今日上午10時25分行駛...</td>\n",
       "      <td>2017-10-03 12:37:00</td>\n",
       "      <td>路人闖入遭自強號撞死　彰化至竹南站間一度延誤</td>\n",
       "      <td>http://www.appledaily.com.tw/realtimenews/arti...</td>\n",
       "    </tr>\n",
       "    <tr>\n",
       "      <th>1</th>\n",
       "      <td>社會</td>\n",
       "      <td>人氣(32608)</td>\n",
       "      <td>（更新：影片、案情）阿羅哈客運上月12日凌晨在國道一號岡山交流道附近發生6死11傷重大車禍，...</td>\n",
       "      <td>2017-10-03 15:03:00</td>\n",
       "      <td>阿羅哈6死車禍肇因出爐　駕駛分神找東西釀禍</td>\n",
       "      <td>http://www.appledaily.com.tw/realtimenews/arti...</td>\n",
       "    </tr>\n",
       "    <tr>\n",
       "      <th>2</th>\n",
       "      <td>生活</td>\n",
       "      <td>人氣(3281)</td>\n",
       "      <td>明天就是中秋節，北市開放河濱公園指定地點方便民眾烤肉賞月，台北市政府表示，平時已有指定區域開...</td>\n",
       "      <td>2017-10-03 12:48:00</td>\n",
       "      <td>北市中秋烤肉何處去　這些地點讓你挑</td>\n",
       "      <td>http://www.appledaily.com.tw/realtimenews/arti...</td>\n",
       "    </tr>\n",
       "  </tbody>\n",
       "</table>\n",
       "</div>"
      ],
      "text/plain": [
       "  category    clicked                                            content  \\\n",
       "0       生活  人氣(10103)  （新增：事故現場圖）台鐵局編號114次、潮州開住七堵的pp自強號，於今日上午10時25分行駛...   \n",
       "1       社會  人氣(32608)  （更新：影片、案情）阿羅哈客運上月12日凌晨在國道一號岡山交流道附近發生6死11傷重大車禍，...   \n",
       "2       生活   人氣(3281)  明天就是中秋節，北市開放河濱公園指定地點方便民眾烤肉賞月，台北市政府表示，平時已有指定區域開...   \n",
       "\n",
       "                 time                   title  \\\n",
       "0 2017-10-03 12:37:00  路人闖入遭自強號撞死　彰化至竹南站間一度延誤   \n",
       "1 2017-10-03 15:03:00   阿羅哈6死車禍肇因出爐　駕駛分神找東西釀禍   \n",
       "2 2017-10-03 12:48:00       北市中秋烤肉何處去　這些地點讓你挑   \n",
       "\n",
       "                                                 url  \n",
       "0  http://www.appledaily.com.tw/realtimenews/arti...  \n",
       "1  http://www.appledaily.com.tw/realtimenews/arti...  \n",
       "2  http://www.appledaily.com.tw/realtimenews/arti...  "
      ]
     },
     "execution_count": 344,
     "metadata": {},
     "output_type": "execute_result"
    }
   ],
   "source": [
    "news.head(3)"
   ]
  },
  {
   "cell_type": "code",
   "execution_count": 346,
   "metadata": {},
   "outputs": [],
   "source": [
    "corpus = []\n",
    "titles = []\n",
    "tags   = []\n",
    "for rec in news.iterrows():\n",
    "    content = rec[1]['content']\n",
    "    title = rec[1]['title']\n",
    "    category = rec[1]['category']\n",
    "    corpus.append(' '.join(jieba.cut(content)))\n",
    "    titles.append(title)\n",
    "    tags.append(category)"
   ]
  },
  {
   "cell_type": "code",
   "execution_count": 348,
   "metadata": {},
   "outputs": [],
   "source": [
    "from sklearn.feature_extraction.text import CountVectorizer\n",
    "vectorizer = CountVectorizer()\n",
    "X = vectorizer.fit_transform(corpus)"
   ]
  },
  {
   "cell_type": "code",
   "execution_count": 349,
   "metadata": {},
   "outputs": [],
   "source": [
    "from sklearn.model_selection import train_test_split\n",
    "train_X, test_X, train_y, test_y, train_titles, test_titles = train_test_split(X, tags, titles, test_size = 0.2, random_state = 42)"
   ]
  },
  {
   "cell_type": "code",
   "execution_count": 350,
   "metadata": {},
   "outputs": [
    {
     "data": {
      "text/plain": [
       "MultinomialNB(alpha=0.01, class_prior=None, fit_prior=True)"
      ]
     },
     "execution_count": 350,
     "metadata": {},
     "output_type": "execute_result"
    }
   ],
   "source": [
    "from sklearn.naive_bayes import MultinomialNB\n",
    "clf = MultinomialNB(alpha = 0.01)\n",
    "clf.fit(train_X, train_y)"
   ]
  },
  {
   "cell_type": "code",
   "execution_count": 351,
   "metadata": {},
   "outputs": [],
   "source": [
    "predicted = clf.predict(test_X)"
   ]
  },
  {
   "cell_type": "code",
   "execution_count": 352,
   "metadata": {},
   "outputs": [
    {
     "data": {
      "text/plain": [
       "0.8284313725490197"
      ]
     },
     "execution_count": 352,
     "metadata": {},
     "output_type": "execute_result"
    }
   ],
   "source": [
    "accuracy_score(test_y, predicted)"
   ]
  },
  {
   "cell_type": "code",
   "execution_count": 354,
   "metadata": {},
   "outputs": [
    {
     "name": "stdout",
     "output_type": "stream",
     "text": [
      "['3C' '副刊' '動物' '國際' '地產' '娛樂' '政治' '時尚' '生活' '社會' '論壇' '財經' '體育']\n"
     ]
    },
    {
     "data": {
      "text/plain": [
       "array([[ 3,  0,  0,  0,  0,  0,  0,  0,  0,  0,  0,  1,  0],\n",
       "       [ 0,  3,  0,  0,  0,  1,  0,  0,  0,  0,  0,  0,  0],\n",
       "       [ 0,  0,  6,  0,  0,  0,  0,  0,  0,  0,  0,  0,  0],\n",
       "       [ 0,  1,  1, 34,  0,  1,  0,  0,  0,  0,  0,  1,  0],\n",
       "       [ 0,  0,  0,  0,  2,  0,  0,  0,  0,  0,  0,  0,  0],\n",
       "       [ 0,  0,  0,  0,  0,  9,  0,  0,  0,  0,  1,  0,  0],\n",
       "       [ 0,  0,  0,  0,  0,  0, 10,  0,  2,  0,  2,  0,  0],\n",
       "       [ 0,  0,  0,  0,  0,  1,  0,  4,  0,  0,  0,  0,  0],\n",
       "       [ 0,  0,  3,  0,  1,  1,  1,  0, 29,  6,  0,  3,  0],\n",
       "       [ 0,  0,  1,  0,  0,  0,  1,  0,  0, 32,  1,  0,  0],\n",
       "       [ 0,  0,  0,  2,  0,  0,  1,  0,  0,  0,  3,  1,  0],\n",
       "       [ 0,  0,  0,  0,  0,  0,  0,  0,  1,  0,  0, 23,  0],\n",
       "       [ 0,  0,  0,  0,  0,  0,  0,  0,  0,  0,  0,  0, 11]])"
      ]
     },
     "execution_count": 354,
     "metadata": {},
     "output_type": "execute_result"
    }
   ],
   "source": [
    "print(clf.classes_)\n",
    "confusion_matrix(test_y, predicted)"
   ]
  },
  {
   "cell_type": "code",
   "execution_count": 355,
   "metadata": {},
   "outputs": [],
   "source": [
    "query = ' '.join(jieba.cut(article))\n",
    "w = vectorizer.transform([query])"
   ]
  },
  {
   "cell_type": "code",
   "execution_count": 356,
   "metadata": {},
   "outputs": [
    {
     "data": {
      "text/plain": [
       "array(['財經'], dtype='<U2')"
      ]
     },
     "execution_count": 356,
     "metadata": {},
     "output_type": "execute_result"
    }
   ],
   "source": [
    "clf.predict(w)"
   ]
  },
  {
   "cell_type": "markdown",
   "metadata": {},
   "source": [
    "## 情緒判斷"
   ]
  },
  {
   "cell_type": "code",
   "execution_count": 357,
   "metadata": {},
   "outputs": [],
   "source": [
    "import pandas\n",
    "movies = pandas.read_excel('data/yahoo_movie.xlsx', index_col=0)"
   ]
  },
  {
   "cell_type": "code",
   "execution_count": 358,
   "metadata": {},
   "outputs": [
    {
     "data": {
      "text/html": [
       "<div>\n",
       "<style scoped>\n",
       "    .dataframe tbody tr th:only-of-type {\n",
       "        vertical-align: middle;\n",
       "    }\n",
       "\n",
       "    .dataframe tbody tr th {\n",
       "        vertical-align: top;\n",
       "    }\n",
       "\n",
       "    .dataframe thead th {\n",
       "        text-align: right;\n",
       "    }\n",
       "</style>\n",
       "<table border=\"1\" class=\"dataframe\">\n",
       "  <thead>\n",
       "    <tr style=\"text-align: right;\">\n",
       "      <th></th>\n",
       "      <th>content</th>\n",
       "      <th>stars</th>\n",
       "      <th>title</th>\n",
       "      <th>status</th>\n",
       "    </tr>\n",
       "  </thead>\n",
       "  <tbody>\n",
       "    <tr>\n",
       "      <th>0</th>\n",
       "      <td>不知道耶! 看完整個無感\\r\\n有種覺得就是女兒\"給蕭\"害死了老爸\\r\\n然後...既然可以...</td>\n",
       "      <td>3</td>\n",
       "      <td>古墓奇兵</td>\n",
       "      <td>soso</td>\n",
       "    </tr>\n",
       "    <tr>\n",
       "      <th>1</th>\n",
       "      <td>很好看的動作片，不會浪費錢跟時間。很久沒有這樣的探險片。可說是女版的印第安那瓊。女主角跟爸爸...</td>\n",
       "      <td>5</td>\n",
       "      <td>古墓奇兵</td>\n",
       "      <td>good</td>\n",
       "    </tr>\n",
       "    <tr>\n",
       "      <th>2</th>\n",
       "      <td>說這個不好看的話，那我還真不知道，還有什麼片是您可以去看得了。電影好看，但話說羅拉有裝可以撿...</td>\n",
       "      <td>5</td>\n",
       "      <td>古墓奇兵</td>\n",
       "      <td>good</td>\n",
       "    </tr>\n",
       "    <tr>\n",
       "      <th>3</th>\n",
       "      <td>父女重逢真的很讓人感動，五顆星。</td>\n",
       "      <td>5</td>\n",
       "      <td>古墓奇兵</td>\n",
       "      <td>good</td>\n",
       "    </tr>\n",
       "    <tr>\n",
       "      <th>4</th>\n",
       "      <td>劇情雖然老套，但仍拍出新意，古墓能殺人的方式不就是機關和毒，要求亂七八糟的觀眾，你看喪尸片看多了。</td>\n",
       "      <td>4</td>\n",
       "      <td>古墓奇兵</td>\n",
       "      <td>good</td>\n",
       "    </tr>\n",
       "  </tbody>\n",
       "</table>\n",
       "</div>"
      ],
      "text/plain": [
       "                                             content  stars title status\n",
       "0  不知道耶! 看完整個無感\\r\\n有種覺得就是女兒\"給蕭\"害死了老爸\\r\\n然後...既然可以...      3  古墓奇兵   soso\n",
       "1  很好看的動作片，不會浪費錢跟時間。很久沒有這樣的探險片。可說是女版的印第安那瓊。女主角跟爸爸...      5  古墓奇兵   good\n",
       "2  說這個不好看的話，那我還真不知道，還有什麼片是您可以去看得了。電影好看，但話說羅拉有裝可以撿...      5  古墓奇兵   good\n",
       "3                                   父女重逢真的很讓人感動，五顆星。      5  古墓奇兵   good\n",
       "4  劇情雖然老套，但仍拍出新意，古墓能殺人的方式不就是機關和毒，要求亂七八糟的觀眾，你看喪尸片看多了。      4  古墓奇兵   good"
      ]
     },
     "execution_count": 358,
     "metadata": {},
     "output_type": "execute_result"
    }
   ],
   "source": [
    "movies.head()"
   ]
  },
  {
   "cell_type": "code",
   "execution_count": 359,
   "metadata": {},
   "outputs": [
    {
     "data": {
      "text/plain": [
       "array(['古墓奇兵', '最後的絕地武士', '攻殼機動隊', '奧創紀元', '最終騎士'], dtype=object)"
      ]
     },
     "execution_count": 359,
     "metadata": {},
     "output_type": "execute_result"
    }
   ],
   "source": [
    "movies['title'].unique()"
   ]
  },
  {
   "cell_type": "code",
   "execution_count": 363,
   "metadata": {},
   "outputs": [],
   "source": [
    "corpus = []\n",
    "tags   = []\n",
    "for rec in movies[movies['status'].isin(['good', 'bad'])].iterrows():\n",
    "    corpus.append(' '.join(jieba.cut(rec[1]['content'])))\n",
    "    tags.append(rec[1]['status'])"
   ]
  },
  {
   "cell_type": "code",
   "execution_count": 364,
   "metadata": {},
   "outputs": [],
   "source": [
    "from sklearn.feature_extraction.text import CountVectorizer\n",
    "vectorizer = CountVectorizer()\n",
    "X = vectorizer.fit_transform(corpus)"
   ]
  },
  {
   "cell_type": "code",
   "execution_count": 365,
   "metadata": {},
   "outputs": [],
   "source": [
    "from sklearn.model_selection import train_test_split\n",
    "train_X, test_X, train_y, test_y = train_test_split(X, tags, test_size = 0.2, random_state = 42)"
   ]
  },
  {
   "cell_type": "code",
   "execution_count": 366,
   "metadata": {},
   "outputs": [
    {
     "data": {
      "text/plain": [
       "MultinomialNB(alpha=0.01, class_prior=None, fit_prior=True)"
      ]
     },
     "execution_count": 366,
     "metadata": {},
     "output_type": "execute_result"
    }
   ],
   "source": [
    "from sklearn.naive_bayes import MultinomialNB\n",
    "clf = MultinomialNB(alpha = 0.01)\n",
    "clf.fit(train_X, train_y)"
   ]
  },
  {
   "cell_type": "code",
   "execution_count": 367,
   "metadata": {},
   "outputs": [],
   "source": [
    "predicted = clf.predict(test_X)"
   ]
  },
  {
   "cell_type": "code",
   "execution_count": 368,
   "metadata": {},
   "outputs": [
    {
     "data": {
      "text/plain": [
       "0.7142857142857143"
      ]
     },
     "execution_count": 368,
     "metadata": {},
     "output_type": "execute_result"
    }
   ],
   "source": [
    "from sklearn.metrics import accuracy_score, confusion_matrix\n",
    "accuracy_score(test_y, predicted)"
   ]
  },
  {
   "cell_type": "code",
   "execution_count": 370,
   "metadata": {},
   "outputs": [
    {
     "name": "stdout",
     "output_type": "stream",
     "text": [
      "['bad' 'good']\n"
     ]
    }
   ],
   "source": [
    "print(clf.classes_)"
   ]
  },
  {
   "cell_type": "code",
   "execution_count": 369,
   "metadata": {},
   "outputs": [
    {
     "data": {
      "text/plain": [
       "array([[51, 30],\n",
       "       [26, 89]])"
      ]
     },
     "execution_count": 369,
     "metadata": {},
     "output_type": "execute_result"
    }
   ],
   "source": [
    "confusion_matrix(test_y, predicted)"
   ]
  },
  {
   "cell_type": "code",
   "execution_count": 371,
   "metadata": {},
   "outputs": [
    {
     "name": "stdout",
     "output_type": "stream",
     "text": [
      "(29.5, '垃圾', 59.0, 1.0)\n",
      "(10.5, '先來', 21.0, 1.0)\n",
      "(8.0, '穌化奶', 8.0, 0.0)\n",
      "(7.5, '睡著', 45.0, 5.0)\n",
      "(7.0, '一星', 14.0, 1.0)\n",
      "(7.0, '演什麼', 14.0, 1.0)\n",
      "(6.5, '麥可貝', 13.0, 1.0)\n",
      "(5.333333333333333, '直接', 16.0, 2.0)\n",
      "(5.0, '一通', 5.0, 0.0)\n",
      "(5.0, '冗長', 5.0, 0.0)\n",
      "(5.0, '半段', 5.0, 0.0)\n",
      "(5.0, '四集', 10.0, 1.0)\n",
      "(5.0, '留言', 25.0, 4.0)\n",
      "(5.0, '超爛', 5.0, 0.0)\n",
      "(4.8, '浪費', 24.0, 4.0)\n",
      "(4.666666666666667, '工讀生', 28.0, 5.0)\n",
      "(4.5, '亂七八糟', 9.0, 1.0)\n",
      "(4.5, '博派', 9.0, 1.0)\n",
      "(4.5, '卡登', 9.0, 1.0)\n",
      "(4.5, '狂派', 9.0, 1.0)\n"
     ]
    }
   ],
   "source": [
    "import operator\n",
    "coef_features_c1_c2 = []\n",
    "\n",
    "for index, features in enumerate(zip(vectorizer.get_feature_names(), \\\n",
    "                        clf.feature_count_[0], clf.feature_count_[1])):\n",
    "    feat,c1,c2 = features\n",
    "    coef_features_c1_c2.append(tuple([c1/(c2 + 1), feat, c1, c2]))\n",
    "\n",
    "for i in sorted(coef_features_c1_c2, key = operator.itemgetter(0), reverse=True)[0:20]:\n",
    "    print(i)\n"
   ]
  },
  {
   "cell_type": "code",
   "execution_count": 372,
   "metadata": {},
   "outputs": [
    {
     "name": "stdout",
     "output_type": "stream",
     "text": [
      "(15.0, '當然', 0.0, 15.0)\n",
      "(15.0, '相當', 0.0, 15.0)\n",
      "(14.0, '許多', 0.0, 14.0)\n",
      "(12.5, '奧創', 1.0, 25.0)\n",
      "(12.0, '寶石', 0.0, 12.0)\n",
      "(11.0, 'the', 0.0, 11.0)\n",
      "(11.0, '細節', 0.0, 11.0)\n",
      "(10.0, '效果', 0.0, 10.0)\n",
      "(10.0, '的確', 0.0, 10.0)\n",
      "(10.0, '階段', 0.0, 10.0)\n",
      "(9.0, 'be', 0.0, 9.0)\n",
      "(9.0, 'https', 0.0, 9.0)\n",
      "(9.0, '不同', 1.0, 18.0)\n",
      "(9.0, '之間', 0.0, 9.0)\n",
      "(9.0, '元素', 0.0, 9.0)\n",
      "(9.0, '參考', 0.0, 9.0)\n",
      "(9.0, '如此', 0.0, 9.0)\n",
      "(9.0, '幻視', 0.0, 9.0)\n",
      "(9.0, '版本', 0.0, 9.0)\n",
      "(8.0, '成功', 0.0, 8.0)\n"
     ]
    }
   ],
   "source": [
    "import operator\n",
    "coef_features_c1_c2 = []\n",
    "\n",
    "for index, features in enumerate(zip(vectorizer.get_feature_names(), \\\n",
    "                        clf.feature_count_[0], clf.feature_count_[1])):\n",
    "    feat,c1,c2 = features\n",
    "    coef_features_c1_c2.append(tuple([c2/(c1 + 1), feat, c1, c2]))\n",
    "\n",
    "for i in sorted(coef_features_c1_c2, key = operator.itemgetter(0), reverse=True)[0:20]:\n",
    "    print(i)\n"
   ]
  },
  {
   "cell_type": "code",
   "execution_count": null,
   "metadata": {},
   "outputs": [],
   "source": []
  }
 ],
 "metadata": {
  "kernelspec": {
   "display_name": "Python 3",
   "language": "python",
   "name": "python3"
  },
  "language_info": {
   "codemirror_mode": {
    "name": "ipython",
    "version": 3
   },
   "file_extension": ".py",
   "mimetype": "text/x-python",
   "name": "python",
   "nbconvert_exporter": "python",
   "pygments_lexer": "ipython3",
   "version": "3.6.2"
  }
 },
 "nbformat": 4,
 "nbformat_minor": 2
}
